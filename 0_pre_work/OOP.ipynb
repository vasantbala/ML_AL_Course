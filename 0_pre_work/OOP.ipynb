{
 "cells": [
  {
   "cell_type": "markdown",
   "metadata": {},
   "source": [
    "# OOP\n",
    "\n",
    "## Class\n",
    "1. User defined data type\n",
    "2. First letter should be capitalized\n",
    "\n",
    "## Object\n",
    "1. Instance of class\n",
    "\n",
    "## Attributes\n",
    "1. A variable inside a class\n",
    "\n",
    "## Methods\n",
    "1. Performs calculations on the attributes or data fed from outside class\n",
    "2. First parameter should be \"self\" in definition but it need not used when calling\n",
    "\n",
    "## Initiaizer\n",
    "1. constructor\n",
    "2. overloaded constructors are acheived by default values on args\n",
    "\n",
    "## Self\n",
    "Represents the current object. same as this keyword\n",
    "Accessing attributes within the class"
   ]
  },
  {
   "cell_type": "code",
   "execution_count": 26,
   "metadata": {},
   "outputs": [
    {
     "name": "stdout",
     "output_type": "stream",
     "text": [
      "Vasant Balasubramanian 's age is  34  also obtained from  34\n",
      "His name can be obtained from  Vasant Balasubramanian\n",
      "Unknown 's age is  2020  also obtained from  2020\n",
      "His name can be obtained from  Unknown\n",
      " Class called Me \n",
      "20\n"
     ]
    }
   ],
   "source": [
    "class Me:\n",
    "    \"\"\" Class called Me \"\"\"\n",
    "    name = \"Not named yet\"\n",
    "    age = 0\n",
    "    yob = 0\n",
    "    \n",
    "    def __init__(self, name='Unknown', yob=0): # overloaded constructors are acheived by default values on args\n",
    "        self.name = name\n",
    "        self.yob = yob\n",
    "        self.age = self.get_age(2020)\n",
    "        return\n",
    "    def get_name(self):\n",
    "        return self.name\n",
    "    def get_age(self, current_year):\n",
    "        return current_year - self.yob\n",
    "    def set_age(self, age):\n",
    "        self.age = age;\n",
    "\n",
    "myself = Me('Vasant Balasubramanian', 1986)\n",
    "print(myself.get_name(),'\\'s age is ', myself.get_age(2020), ' also obtained from ', myself.age)\n",
    "print('His name can be obtained from ', myself.name)\n",
    "\n",
    "another_myself = Me()\n",
    "print(another_myself.get_name(),'\\'s age is ', another_myself.get_age(2020), ' also obtained from ', another_myself.age)\n",
    "print('His name can be obtained from ', another_myself.name)\n",
    "print(another_myself.__doc__)\n",
    "another_myself.set_age(20)\n",
    "print(another_myself.age)\n"
   ]
  },
  {
   "cell_type": "code",
   "execution_count": null,
   "metadata": {},
   "outputs": [],
   "source": []
  }
 ],
 "metadata": {
  "kernelspec": {
   "display_name": "Python 3",
   "language": "python",
   "name": "python3"
  },
  "language_info": {
   "codemirror_mode": {
    "name": "ipython",
    "version": 3
   },
   "file_extension": ".py",
   "mimetype": "text/x-python",
   "name": "python",
   "nbconvert_exporter": "python",
   "pygments_lexer": "ipython3",
   "version": "3.8.3"
  }
 },
 "nbformat": 4,
 "nbformat_minor": 4
}
