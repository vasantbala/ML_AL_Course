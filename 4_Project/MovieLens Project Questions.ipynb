{
 "cells": [
  {
   "cell_type": "markdown",
   "metadata": {},
   "source": [
    "### `Project - MovieLens Data Analysis`\n",
    "\n",
    "The GroupLens Research Project is a research group in the Department of Computer Science and Engineering at the University of Minnesota. The data is widely used for collaborative filtering and other filtering solutions. However, we will be using this data to act as a means to demonstrate our skill in using Python to “play” with data.\n",
    "\n",
    "\n",
    "### `Objective:`\n",
    "- To implement the techniques learnt as a part of the course.\n",
    "\n",
    "### `Learning Outcomes:`\n",
    "- Exploratory Data Analysis\n",
    "\n",
    "- Visualization using Python\n",
    "\n",
    "- Pandas – groupby, merging \n",
    "\n",
    "\n",
    "### `Domain` \n",
    "- Internet and Entertainment\n",
    "\n",
    "**Note that the project will need you to apply the concepts of groupby and merging extensively.**"
   ]
  },
  {
   "cell_type": "markdown",
   "metadata": {},
   "source": [
    "### `Datasets Information:`\n",
    "\n",
    "\n",
    "*rating.csv:* It contains information on ratings given by the users to a particular movie.\n",
    "- user id: id assigned to every user\n",
    "- movie id: id assigned to every movie\n",
    "- rating: rating given by the user\n",
    "- timestamp: Time recorded when the user gave a rating\n",
    "\n",
    "\n",
    "\n",
    "*movie.csv:* File contains information related to the movies and their genre.\n",
    "- movie id: id assigned to every movie\n",
    "- movie title: Title of the movie\n",
    "- release date: Date of release of the movie\n",
    "- Action: Genre containing binary values (1 - for action 0 - not action)\n",
    "- Adventure: Genre containing binary values (1 - for adventure 0 - not adventure)\n",
    "- Animation: Genre containing binary values (1 - for animation 0 - not animation)\n",
    "- Children’s: Genre containing binary values (1 - for children's 0 - not children's)\n",
    "- Comedy: Genre containing binary values (1 - for comedy 0 - not comedy)\n",
    "- Crime: Genre containing binary values (1 - for crime 0 - not crime)\n",
    "- Documentary: Genre containing binary values (1 - for documentary 0 - not documentary)\n",
    "- Drama: Genre containing binary values (1 - for drama 0 - not drama)\n",
    "- Fantasy: Genre containing binary values (1 - for fantasy 0 - not fantasy)\n",
    "- Film-Noir: Genre containing binary values (1 - for film-noir 0 - not film-noir)\n",
    "- Horror: Genre containing binary values (1 - for horror 0 - not horror)\n",
    "- Musical: Genre containing binary values (1 - for musical 0 - not musical)\n",
    "- Mystery: Genre containing binary values (1 - for mystery 0 - not mystery)\n",
    "- Romance: Genre containing binary values (1 - for romance 0 - not romance)\n",
    "- Sci-Fi: Genre containing binary values (1 - for sci-fi 0 - not sci-fi)\n",
    "- Thriller: Genre containing binary values (1 - for thriller 0 - not thriller)\n",
    "- War: Genre containing binary values (1 - for war 0 - not war)\n",
    "- Western: Genre containing binary values (1 - for western - not western)\n",
    "\n",
    "\n",
    "\n",
    "*user.csv:* It contains information of the users who have rated the movies.\n",
    "- user id: id assigned to every user\n",
    "- age: Age of the user\n",
    "- gender: Gender of the user\n",
    "- occupation: Occupation of the user\n",
    "- zip code: Zip code of the use\n",
    "\n",
    "\n",
    "**`Please provide you insights wherever necessary.`**"
   ]
  },
  {
   "cell_type": "markdown",
   "metadata": {},
   "source": [
    "### 1. Import the necessary packages - 2.5 marks"
   ]
  },
  {
   "cell_type": "code",
   "execution_count": 1,
   "metadata": {},
   "outputs": [],
   "source": [
    "import numpy as np\n",
    "import pandas as pd\n",
    "import matplotlib.pyplot as plt\n",
    "import seaborn as sns"
   ]
  },
  {
   "cell_type": "markdown",
   "metadata": {},
   "source": [
    "### 2. Read the 3 datasets into dataframes - 2.5 marks"
   ]
  },
  {
   "cell_type": "code",
   "execution_count": 2,
   "metadata": {
    "scrolled": true
   },
   "outputs": [],
   "source": [
    "data = pd.read_csv('Data.csv')\n",
    "item_data = pd.read_csv('item.csv')\n",
    "user_data = pd.read_csv('user.csv')"
   ]
  },
  {
   "cell_type": "markdown",
   "metadata": {},
   "source": [
    "### 3. Apply info, shape, describe, and find the number of missing values in the data - 5 marks\n",
    " - Note that you will need to do it for all the three datasets seperately"
   ]
  },
  {
   "cell_type": "code",
   "execution_count": 32,
   "metadata": {
    "tags": []
   },
   "outputs": [
    {
     "output_type": "stream",
     "name": "stdout",
     "text": "Info of data is: \n<class 'pandas.core.frame.DataFrame'>\nRangeIndex: 100000 entries, 0 to 99999\nData columns (total 4 columns):\n #   Column     Non-Null Count   Dtype\n---  ------     --------------   -----\n 0   user id    100000 non-null  int64\n 1   movie id   100000 non-null  int64\n 2   rating     100000 non-null  int64\n 3   timestamp  100000 non-null  int64\ndtypes: int64(4)\nmemory usage: 3.1 MB\n\n\nShape of data is: \n(100000, 4)\n\n\nDescription of data is: \n            user id       movie id         rating     timestamp\ncount  100000.00000  100000.000000  100000.000000  1.000000e+05\nmean      462.48475     425.530130       3.529860  8.835289e+08\nstd       266.61442     330.798356       1.125674  5.343856e+06\nmin         1.00000       1.000000       1.000000  8.747247e+08\n25%       254.00000     175.000000       3.000000  8.794487e+08\n50%       447.00000     322.000000       4.000000  8.828269e+08\n75%       682.00000     631.000000       4.000000  8.882600e+08\nmax       943.00000    1682.000000       5.000000  8.932866e+08\n\n\nNo. of missing values in each column in the data is: \nuser id      0\nmovie id     0\nrating       0\ntimestamp    0\ndtype: int64\n\n\nNo. of missing values in all columns: \n0\n\n\nInfo of item_data is: \n<class 'pandas.core.frame.DataFrame'>\nRangeIndex: 1681 entries, 0 to 1680\nData columns (total 22 columns):\n #   Column        Non-Null Count  Dtype \n---  ------        --------------  ----- \n 0   movie id      1681 non-null   int64 \n 1   movie title   1681 non-null   object\n 2   release date  1681 non-null   object\n 3   unknown       1681 non-null   int64 \n 4   Action        1681 non-null   int64 \n 5   Adventure     1681 non-null   int64 \n 6   Animation     1681 non-null   int64 \n 7   Childrens     1681 non-null   int64 \n 8   Comedy        1681 non-null   int64 \n 9   Crime         1681 non-null   int64 \n 10  Documentary   1681 non-null   int64 \n 11  Drama         1681 non-null   int64 \n 12  Fantasy       1681 non-null   int64 \n 13  Film-Noir     1681 non-null   int64 \n 14  Horror        1681 non-null   int64 \n 15  Musical       1681 non-null   int64 \n 16  Mystery       1681 non-null   int64 \n 17  Romance       1681 non-null   int64 \n 18  Sci-Fi        1681 non-null   int64 \n 19  Thriller      1681 non-null   int64 \n 20  War           1681 non-null   int64 \n 21  Western       1681 non-null   int64 \ndtypes: int64(20), object(2)\nmemory usage: 289.0+ KB\n\n\nShape of item_data is: \n(1681, 22)\n\n\nDescription of item_data is: \n          movie id      unknown       Action    Adventure    Animation  \\\ncount  1681.000000  1681.000000  1681.000000  1681.000000  1681.000000   \nmean    841.841761     0.000595     0.149316     0.080309     0.024985   \nstd     485.638077     0.024390     0.356506     0.271852     0.156126   \nmin       1.000000     0.000000     0.000000     0.000000     0.000000   \n25%     422.000000     0.000000     0.000000     0.000000     0.000000   \n50%     842.000000     0.000000     0.000000     0.000000     0.000000   \n75%    1262.000000     0.000000     0.000000     0.000000     0.000000   \nmax    1682.000000     1.000000     1.000000     1.000000     1.000000   \n\n         Childrens       Comedy        Crime  Documentary        Drama  \\\ncount  1681.000000  1681.000000  1681.000000  1681.000000  1681.000000   \nmean      0.072576     0.300416     0.064842     0.029744     0.431291   \nstd       0.259516     0.458576     0.246321     0.169931     0.495404   \nmin       0.000000     0.000000     0.000000     0.000000     0.000000   \n25%       0.000000     0.000000     0.000000     0.000000     0.000000   \n50%       0.000000     0.000000     0.000000     0.000000     0.000000   \n75%       0.000000     1.000000     0.000000     0.000000     1.000000   \nmax       1.000000     1.000000     1.000000     1.000000     1.000000   \n\n           Fantasy    Film-Noir       Horror      Musical      Mystery  \\\ncount  1681.000000  1681.000000  1681.000000  1681.000000  1681.000000   \nmean      0.013087     0.014277     0.054729     0.033314     0.036288   \nstd       0.113683     0.118667     0.227519     0.179507     0.187061   \nmin       0.000000     0.000000     0.000000     0.000000     0.000000   \n25%       0.000000     0.000000     0.000000     0.000000     0.000000   \n50%       0.000000     0.000000     0.000000     0.000000     0.000000   \n75%       0.000000     0.000000     0.000000     0.000000     0.000000   \nmax       1.000000     1.000000     1.000000     1.000000     1.000000   \n\n           Romance       Sci-Fi     Thriller          War      Western  \ncount  1681.000000  1681.000000  1681.000000  1681.000000  1681.000000  \nmean      0.146936     0.060083     0.149316     0.042237     0.016062  \nstd       0.354148     0.237712     0.356506     0.201189     0.125751  \nmin       0.000000     0.000000     0.000000     0.000000     0.000000  \n25%       0.000000     0.000000     0.000000     0.000000     0.000000  \n50%       0.000000     0.000000     0.000000     0.000000     0.000000  \n75%       0.000000     0.000000     0.000000     0.000000     0.000000  \nmax       1.000000     1.000000     1.000000     1.000000     1.000000  \n\n\nNo. of missing values in each column in the item_data is: \nmovie id        0\nmovie title     0\nrelease date    0\nunknown         0\nAction          0\nAdventure       0\nAnimation       0\nChildrens       0\nComedy          0\nCrime           0\nDocumentary     0\nDrama           0\nFantasy         0\nFilm-Noir       0\nHorror          0\nMusical         0\nMystery         0\nRomance         0\nSci-Fi          0\nThriller        0\nWar             0\nWestern         0\ndtype: int64\n\n\nNo. of missing values in all columns: \n0\n\n\nInfo of user_data is: \n<class 'pandas.core.frame.DataFrame'>\nRangeIndex: 943 entries, 0 to 942\nData columns (total 5 columns):\n #   Column      Non-Null Count  Dtype \n---  ------      --------------  ----- \n 0   user id     943 non-null    int64 \n 1   age         943 non-null    int64 \n 2   gender      943 non-null    object\n 3   occupation  943 non-null    object\n 4   zip code    943 non-null    object\ndtypes: int64(2), object(3)\nmemory usage: 37.0+ KB\n\n\nShape of user_data is: \n(943, 5)\n\n\nDescription of user_data is: \n          user id         age\ncount  943.000000  943.000000\nmean   472.000000   34.051962\nstd    272.364951   12.192740\nmin      1.000000    7.000000\n25%    236.500000   25.000000\n50%    472.000000   31.000000\n75%    707.500000   43.000000\nmax    943.000000   73.000000\n\n\nNo. of missing values in each column in the user_data is: \nuser id       0\nage           0\ngender        0\noccupation    0\nzip code      0\ndtype: int64\n\n\nNo. of missing values in all columns: \n0\n\n\n"
    }
   ],
   "source": [
    "print('Info of data is: ')\n",
    "data.info()\n",
    "print('\\n')\n",
    "print('Shape of data is: ')\n",
    "print(data.shape)\n",
    "print('\\n')\n",
    "print('Description of data is: ')\n",
    "print(data.describe())\n",
    "print('\\n')\n",
    "print('No. of missing values in each column in the data is: ')\n",
    "print(data.isnull().sum())\n",
    "print('\\n')\n",
    "print('No. of missing values in all columns: ')\n",
    "print(sum(data.isnull().sum()))\n",
    "print('\\n')\n",
    "\n",
    "print('Info of item_data is: ')\n",
    "item_data.info()\n",
    "print('\\n')\n",
    "print('Shape of item_data is: ')\n",
    "print(item_data.shape)\n",
    "print('\\n')\n",
    "print('Description of item_data is: ')\n",
    "print(item_data.describe())\n",
    "print('\\n')\n",
    "print('No. of missing values in each column in the item_data is: ')\n",
    "print(item_data.isnull().sum())\n",
    "print('\\n')\n",
    "print('No. of missing values in all columns: ')\n",
    "print(sum(item_data.isnull().sum()))\n",
    "print('\\n')\n",
    "\n",
    "print('Info of user_data is: ')\n",
    "user_data.info()\n",
    "print('\\n')\n",
    "print('Shape of user_data is: ')\n",
    "print(user_data.shape)\n",
    "print('\\n')\n",
    "print('Description of user_data is: ')\n",
    "print(user_data.describe())\n",
    "print('\\n')\n",
    "print('No. of missing values in each column in the user_data is: ')\n",
    "print(user_data.isnull().sum())\n",
    "print('\\n')\n",
    "print('No. of missing values in all columns: ')\n",
    "print(sum(user_data.isnull().sum()))\n",
    "print('\\n')\n"
   ]
  },
  {
   "cell_type": "markdown",
   "metadata": {},
   "source": [
    "### 4. Find the number of movies per genre using the item data - 2.5 marks"
   ]
  },
  {
   "cell_type": "code",
   "execution_count": 118,
   "metadata": {
    "scrolled": true,
    "tags": []
   },
   "outputs": [
    {
     "output_type": "stream",
     "name": "stdout",
     "text": "The no. of movies under  unknown  is:  0\nThe no. of movies under  Action  is:  251\nThe no. of movies under  Adventure  is:  135\nThe no. of movies under  Animation  is:  42\nThe no. of movies under  Childrens  is:  122\nThe no. of movies under  Comedy  is:  505\nThe no. of movies under  Crime  is:  109\nThe no. of movies under  Documentary  is:  50\nThe no. of movies under  Drama  is:  725\nThe no. of movies under  Fantasy  is:  22\nThe no. of movies under  Film-Noir  is:  24\nThe no. of movies under  Horror  is:  92\nThe no. of movies under  Musical  is:  56\nThe no. of movies under  Mystery  is:  61\nThe no. of movies under  Romance  is:  247\nThe no. of movies under  Sci-Fi  is:  101\nThe no. of movies under  Thriller  is:  251\nThe no. of movies under  War  is:  71\nThe no. of movies under  Western  is:  27\n"
    }
   ],
   "source": [
    "for genre in item_data.columns[3:]:\n",
    "    print('The no. of movies under ', genre, ' is: ', item_data[genre].sum())    \n",
    "    #print('The no. of movies under ', genre, ' is: ', item_data.where(item_data[genre] == 1).groupby(genre).size()[1])    \n"
   ]
  },
  {
   "cell_type": "markdown",
   "metadata": {},
   "source": [
    "### 5. Drop the movie where the genre is unknown - 2.5 marks"
   ]
  },
  {
   "cell_type": "code",
   "execution_count": 102,
   "metadata": {},
   "outputs": [],
   "source": [
    "item_data.drop(item_data[item_data['unknown'] == 1].index, inplace = True) "
   ]
  },
  {
   "cell_type": "code",
   "execution_count": 124,
   "metadata": {},
   "outputs": [
    {
     "output_type": "execute_result",
     "data": {
      "text/plain": "0       3\n1       3\n2       1\n3       3\n4       3\n       ..\n1676    1\n1677    2\n1678    2\n1679    1\n1680    1\nLength: 1680, dtype: int64"
     },
     "metadata": {},
     "execution_count": 124
    }
   ],
   "source": []
  },
  {
   "cell_type": "markdown",
   "metadata": {},
   "source": [
    "### 6. Find the movies that have more than one genre - 5 marks\n",
    "\n",
    "hint: use sum on the axis = 1\n",
    "\n",
    "Display movie name, number of genres for the movie in dataframe\n",
    "\n",
    "and also print(total number of movies which have more than one genres)"
   ]
  },
  {
   "cell_type": "code",
   "execution_count": 125,
   "metadata": {},
   "outputs": [
    {
     "output_type": "execute_result",
     "data": {
      "text/plain": "0       3\n1       3\n2       1\n3       3\n4       3\n       ..\n1676    1\n1677    2\n1678    2\n1679    1\n1680    1\nLength: 1680, dtype: int64"
     },
     "metadata": {},
     "execution_count": 125
    }
   ],
   "source": [
    "item_data.iloc[:, 3:].sum(axis=1)"
   ]
  },
  {
   "cell_type": "markdown",
   "metadata": {},
   "source": [
    "### 7. Univariate plots of columns: 'rating', 'Age', 'release year', 'Gender' and 'Occupation' - 10 marks\n",
    "\n",
    "*HINT: Use distplot for age. Use lineplot or countplot for release year.*\n",
    "\n",
    "*HINT: Plot percentages in y-axis and categories in x-axis for ratings, gender and occupation*\n",
    "\n",
    "*HINT: Please refer to the below snippet to understand how to get to release year from release date. You can use str.split() as depicted below or you could convert it to pandas datetime format and extract year (.dt.year)*"
   ]
  },
  {
   "cell_type": "code",
   "execution_count": 18,
   "metadata": {},
   "outputs": [
    {
     "name": "stdout",
     "output_type": "stream",
     "text": [
      "brown\n",
      "brown\n",
      "brown\n"
     ]
    }
   ],
   "source": [
    "a = 'My*cat*is*brown'\n",
    "print(a.split('*')[3])\n",
    "\n",
    "#similarly, the release year needs to be taken out from release date\n",
    "\n",
    "#also you can simply slice existing string to get the desired data, if we want to take out the colour of the cat\n",
    "\n",
    "print(a[10:])\n",
    "print(a[-5:])"
   ]
  },
  {
   "cell_type": "code",
   "execution_count": null,
   "metadata": {},
   "outputs": [],
   "source": []
  },
  {
   "cell_type": "markdown",
   "metadata": {},
   "source": [
    "### 8. Visualize how popularity of genres has changed over the years - 10 marks\n",
    "\n",
    "Note that you need to use the **percent of number of releases in a year** as a parameter of popularity of a genre\n",
    "\n",
    "Hint 1: You need to reach to a data frame where the release year is the index and the genre is the column names (one cell shows the number of release in a year in one genre) or vice versa. (Drop unnecessary column if there are any)\n",
    "\n",
    "Hint 2: Find the total number of movies release in a year(use `sum(axis=1)` store that value in a new column as 'total'). Now divide the value of each genre in that year by total to get percentage number of release in a particular year.\n",
    "`(df.div(df['total'], axis= 0) * 100)`\n",
    "\n",
    "Once that is achieved, you can either use univariate plots or can use the heatmap to visualise all the changes over the years \n",
    "in one go. \n",
    "\n",
    "Hint 3: Use groupby on the relevant column and use sum() on the same to find out the number of releases in a year/genre.  "
   ]
  },
  {
   "cell_type": "code",
   "execution_count": null,
   "metadata": {},
   "outputs": [],
   "source": []
  },
  {
   "cell_type": "markdown",
   "metadata": {},
   "source": [
    "### 9. Find the top 25 movies according to average ratings such that each movie has number of ratings more than 100 - 10 marks\n",
    "\n",
    "Hints : \n",
    "\n",
    "1. Find the count of ratings and average ratings for every movie.\n",
    "2. Slice the movies which have ratings more than 100.\n",
    "3. Sort values according to average rating such that movie which highest rating is on top.\n",
    "4. Select top 25 movies.\n",
    "5. You will have to use the .merge() function to get the movie titles.\n",
    "\n",
    "Note: This question will need you to research about groupby and apply your findings. You can find more on groupby on https://realpython.com/pandas-groupby/."
   ]
  },
  {
   "cell_type": "code",
   "execution_count": null,
   "metadata": {},
   "outputs": [],
   "source": []
  },
  {
   "cell_type": "markdown",
   "metadata": {},
   "source": [
    "### 10. See gender distribution across different genres check for the validity of the below statements - 10 marks\n",
    "\n",
    "* Men watch more drama than women\n",
    "* Women watch more Sci-Fi than men\n",
    "* Men watch more Romance than women\n",
    "\n",
    "**compare the percentages**"
   ]
  },
  {
   "cell_type": "markdown",
   "metadata": {},
   "source": [
    "1. Merge all the datasets\n",
    "\n",
    "2. There is no need to conduct statistical tests around this. Just **compare the percentages** and comment on the validity of the above statements.\n",
    "\n",
    "3. you might want ot use the .sum(), .div() function here.\n",
    "\n",
    "4. Use number of ratings to validate the numbers. For example, if out of 4000 ratings received by women, 3000 are for drama, we will assume that 75% of the women watch drama."
   ]
  },
  {
   "cell_type": "code",
   "execution_count": null,
   "metadata": {},
   "outputs": [],
   "source": []
  }
 ],
 "metadata": {
  "kernelspec": {
   "display_name": "Python 3",
   "language": "python",
   "name": "python3"
  },
  "language_info": {
   "codemirror_mode": {
    "name": "ipython",
    "version": 3
   },
   "file_extension": ".py",
   "mimetype": "text/x-python",
   "name": "python",
   "nbconvert_exporter": "python",
   "pygments_lexer": "ipython3",
   "version": "3.8.3-final"
  }
 },
 "nbformat": 4,
 "nbformat_minor": 2
}