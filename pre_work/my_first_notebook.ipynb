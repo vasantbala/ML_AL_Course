{
 "cells": [
  {
   "cell_type": "code",
   "execution_count": 6,
   "metadata": {},
   "outputs": [
    {
     "data": {
      "text/plain": [
       "4"
      ]
     },
     "execution_count": 6,
     "metadata": {},
     "output_type": "execute_result"
    }
   ],
   "source": [
    "2+2"
   ]
  },
  {
   "cell_type": "code",
   "execution_count": 7,
   "metadata": {},
   "outputs": [
    {
     "name": "stdout",
     "output_type": "stream",
     "text": [
      "This editable textbox is called cell\n"
     ]
    }
   ],
   "source": [
    "print('This editable textbox is called cell')"
   ]
  },
  {
   "cell_type": "code",
   "execution_count": 8,
   "metadata": {},
   "outputs": [
    {
     "name": "stdout",
     "output_type": "stream",
     "text": [
      "kernel can be interrupt to stop execution\n"
     ]
    }
   ],
   "source": [
    "print('kernel can be interrupt to stop execution')"
   ]
  },
  {
   "cell_type": "code",
   "execution_count": 9,
   "metadata": {},
   "outputs": [
    {
     "data": {
      "text/plain": [
       "4"
      ]
     },
     "execution_count": 9,
     "metadata": {},
     "output_type": "execute_result"
    }
   ],
   "source": [
    "2+2"
   ]
  },
  {
   "cell_type": "markdown",
   "metadata": {},
   "source": [
    "# Introduction to python\n",
    "Thisis where we can add text\n",
    "We muast designate this cell as a markdown\n",
    "\n",
    "## Subsection\n",
    "It is LaTex commands $\\int_0^\\infty f(x) dx$\n",
    "\n",
    "$$\\int_0^\\infty f(x) dx$$"
   ]
  },
  {
   "cell_type": "markdown",
   "metadata": {},
   "source": [
    "## Shortcuts\n",
    "Shift + Enter = run cell and append new cell\n",
    "\n",
    "Ctrl + Enter = run cell and stay on the same cell\n",
    "\n",
    "Alt + Enter = run cell and inserts new cell under current cell\n",
    "\n",
    "Tab = auto complete\n",
    "\n",
    "Shift Tab = documentation of the function"
   ]
  },
  {
   "cell_type": "code",
   "execution_count": 4,
   "metadata": {},
   "outputs": [
    {
     "name": "stdout",
     "output_type": "stream",
     "text": [
      "five times a is 15 and 3 times a is 9\n"
     ]
    }
   ],
   "source": [
    "# comment\n",
    "a=3\n",
    "print('five times a is' , a*5, 'and 3 times a is', 3*a)"
   ]
  },
  {
   "cell_type": "code",
   "execution_count": 8,
   "metadata": {},
   "outputs": [
    {
     "name": "stdout",
     "output_type": "stream",
     "text": [
      "b is a type of <class 'float'>\n",
      "c is  1.4285714285714286 and d is 1.4285714285714286\n"
     ]
    }
   ],
   "source": [
    "b =2.1\n",
    "print('b is a type of', type(b))\n",
    "c=float(a)/b\n",
    "d=a/b\n",
    "print('c is ', c, 'and d is', d)"
   ]
  },
  {
   "cell_type": "markdown",
   "metadata": {},
   "source": [
    "## Collection\n",
    "1. list\n",
    "2. tuple\n",
    "3. set\n",
    "4. dictionary"
   ]
  },
  {
   "cell_type": "code",
   "execution_count": 14,
   "metadata": {},
   "outputs": [
    {
     "name": "stdout",
     "output_type": "stream",
     "text": [
      "['Dan', 2, 3, 4, 'python', 2.71]\n",
      "Dan\n",
      "4\n",
      "2.71\n",
      "python\n",
      "6\n"
     ]
    }
   ],
   "source": [
    "#list [] to store and access\n",
    "simple_list = ['Dan', 2, 3, 4, 'python', 2.71]\n",
    "print(simple_list)\n",
    "print(simple_list[0])\n",
    "print(simple_list[3])\n",
    "print(simple_list[-1])\n",
    "print(simple_list[-2])\n",
    "print(len(simple_list))"
   ]
  },
  {
   "cell_type": "code",
   "execution_count": 15,
   "metadata": {},
   "outputs": [
    {
     "name": "stdout",
     "output_type": "stream",
     "text": [
      "52\n"
     ]
    }
   ],
   "source": [
    "simple_list[3] = 52\n",
    "print(simple_list[3])"
   ]
  },
  {
   "cell_type": "code",
   "execution_count": 17,
   "metadata": {},
   "outputs": [
    {
     "name": "stdout",
     "output_type": "stream",
     "text": [
      "add to the back\n"
     ]
    }
   ],
   "source": [
    "simple_list.append('add to the back')\n",
    "print(simple_list[len(simple_list)-1])"
   ]
  },
  {
   "cell_type": "code",
   "execution_count": 18,
   "metadata": {},
   "outputs": [
    {
     "name": "stdout",
     "output_type": "stream",
     "text": [
      "['Dan', 2, 3, 52, 2.71, 'add to the back', 'add to the back']\n"
     ]
    }
   ],
   "source": [
    "simple_list.pop(4)\n",
    "print(simple_list)"
   ]
  },
  {
   "cell_type": "code",
   "execution_count": 20,
   "metadata": {},
   "outputs": [
    {
     "name": "stdout",
     "output_type": "stream",
     "text": [
      "[5, 5, 5, 5]\n"
     ]
    }
   ],
   "source": [
    "# short hand;\n",
    "repeated_list = [5]*4\n",
    "print(repeated_list)"
   ]
  },
  {
   "cell_type": "code",
   "execution_count": 21,
   "metadata": {},
   "outputs": [
    {
     "name": "stdout",
     "output_type": "stream",
     "text": [
      "['One', [1, 2, 3], 'Three']\n"
     ]
    }
   ],
   "source": [
    "#nested list\n",
    "nested_list = ['One', 'Two', 'Three']\n",
    "nested_list[1] = [1,2,3]\n",
    "print(nested_list)"
   ]
  },
  {
   "cell_type": "code",
   "execution_count": 22,
   "metadata": {},
   "outputs": [
    {
     "name": "stdout",
     "output_type": "stream",
     "text": [
      "[20]\n"
     ]
    }
   ],
   "source": [
    "#Copy list\n",
    "list_one = [1,2,3]\n",
    "list_two = list_one\n",
    "list_one[2] = [20]\n",
    "print(list_two[2])"
   ]
  },
  {
   "cell_type": "code",
   "execution_count": 23,
   "metadata": {},
   "outputs": [
    {
     "name": "stdout",
     "output_type": "stream",
     "text": [
      "[1, 2, [30]]\n",
      "[1, 2, [20]]\n"
     ]
    }
   ],
   "source": [
    "#clone list\n",
    "list_three = list_one.copy()\n",
    "list_one[2] = [30]\n",
    "print(list_two)\n",
    "print(list_three)"
   ]
  },
  {
   "cell_type": "code",
   "execution_count": 28,
   "metadata": {},
   "outputs": [
    {
     "name": "stdout",
     "output_type": "stream",
     "text": [
      "(1, 2, 3)\n",
      "2\n"
     ]
    }
   ],
   "source": [
    "#Tuple (), cannot change\n",
    "simple_tuple = (1,2,3)\n",
    "print(simple_tuple)\n",
    "print(simple_tuple[1])"
   ]
  },
  {
   "cell_type": "code",
   "execution_count": 26,
   "metadata": {},
   "outputs": [
    {
     "ename": "TypeError",
     "evalue": "'tuple' object does not support item assignment",
     "output_type": "error",
     "traceback": [
      "\u001b[1;31m---------------------------------------------------------------------------\u001b[0m",
      "\u001b[1;31mTypeError\u001b[0m                                 Traceback (most recent call last)",
      "\u001b[1;32m<ipython-input-26-5f9e63e06d45>\u001b[0m in \u001b[0;36m<module>\u001b[1;34m\u001b[0m\n\u001b[1;32m----> 1\u001b[1;33m \u001b[0msimple_tuple\u001b[0m\u001b[1;33m[\u001b[0m\u001b[1;36m1\u001b[0m\u001b[1;33m]\u001b[0m \u001b[1;33m=\u001b[0m \u001b[1;36m1\u001b[0m\u001b[1;33m\u001b[0m\u001b[1;33m\u001b[0m\u001b[0m\n\u001b[0m",
      "\u001b[1;31mTypeError\u001b[0m: 'tuple' object does not support item assignment"
     ]
    }
   ],
   "source": [
    "simple_tuple[1] = 1"
   ]
  },
  {
   "cell_type": "code",
   "execution_count": 27,
   "metadata": {},
   "outputs": [
    {
     "name": "stdout",
     "output_type": "stream",
     "text": [
      "[1, 2, 3]\n"
     ]
    }
   ],
   "source": [
    "converted_list = list(simple_tuple)\n",
    "print(converted_list)"
   ]
  },
  {
   "cell_type": "code",
   "execution_count": 36,
   "metadata": {},
   "outputs": [
    {
     "name": "stdout",
     "output_type": "stream",
     "text": [
      "{11, -2, 'water'}\n"
     ]
    }
   ],
   "source": [
    "#Set unordered, do not allow duplicates, add and remove are possible\n",
    "simple_set = {11, -2, 'water', -2}\n",
    "print(simple_set)\n"
   ]
  },
  {
   "cell_type": "code",
   "execution_count": 37,
   "metadata": {},
   "outputs": [
    {
     "name": "stdout",
     "output_type": "stream",
     "text": [
      "True\n"
     ]
    }
   ],
   "source": [
    "print('water' in simple_set)"
   ]
  },
  {
   "cell_type": "code",
   "execution_count": 38,
   "metadata": {},
   "outputs": [
    {
     "name": "stdout",
     "output_type": "stream",
     "text": [
      "{70, 11, -2}\n"
     ]
    }
   ],
   "source": [
    "simple_set.add(70)\n",
    "simple_set.remove('water')\n",
    "print(simple_set)"
   ]
  },
  {
   "cell_type": "code",
   "execution_count": 39,
   "metadata": {},
   "outputs": [
    {
     "name": "stdout",
     "output_type": "stream",
     "text": [
      "{'brand': 'Apple', 'product': 'iPhone', 'model': 'X'}\n",
      "Apple\n"
     ]
    }
   ],
   "source": [
    "#dictionary, unordered, indexed and changeable\n",
    "simple_dict = {\n",
    "    \"brand\": \"Apple\",\n",
    "    \"product\": \"iPhone\",\n",
    "    \"model\": \"X\"    \n",
    "}\n",
    "print(simple_dict)\n",
    "print(simple_dict['brand'])"
   ]
  },
  {
   "cell_type": "code",
   "execution_count": 40,
   "metadata": {},
   "outputs": [],
   "source": [
    "simple_dict['model'] = 'X Pro'"
   ]
  },
  {
   "cell_type": "code",
   "execution_count": 41,
   "metadata": {},
   "outputs": [
    {
     "name": "stdout",
     "output_type": "stream",
     "text": [
      "{'brand': 'Apple', 'product': 'iPhone', 'model': 'X Pro'}\n"
     ]
    }
   ],
   "source": [
    "print(simple_dict)"
   ]
  },
  {
   "cell_type": "code",
   "execution_count": 47,
   "metadata": {},
   "outputs": [
    {
     "name": "stdout",
     "output_type": "stream",
     "text": [
      "['Dan', 2, 3, 52, 2.71, 'add to the back', 'add to the back']\n",
      "add to the back\n",
      "[2, 3, 52, 2.71, 'add to the back']\n"
     ]
    }
   ],
   "source": [
    "#range ; things to left is inclusive and to the right is exclusive\n",
    "print(simple_list)\n",
    "print(simple_list[-1])\n",
    "print(simple_list[1:-1])\n"
   ]
  },
  {
   "cell_type": "code",
   "execution_count": null,
   "metadata": {},
   "outputs": [],
   "source": []
  }
 ],
 "metadata": {
  "kernelspec": {
   "display_name": "Python 3",
   "language": "python",
   "name": "python3"
  },
  "language_info": {
   "codemirror_mode": {
    "name": "ipython",
    "version": 3
   },
   "file_extension": ".py",
   "mimetype": "text/x-python",
   "name": "python",
   "nbconvert_exporter": "python",
   "pygments_lexer": "ipython3",
   "version": "3.8.3"
  }
 },
 "nbformat": 4,
 "nbformat_minor": 4
}
