{
 "cells": [
  {
   "cell_type": "markdown",
   "metadata": {},
   "source": [
    "## User defined functions\n",
    "1. User defined\n",
    "2. Lambda\n",
    "\n",
    "Variables within a function is local to that function.\n",
    "Variables outside of function can be accessed by the function\n",
    "Global variables prefixes variable name with a global keyword "
   ]
  },
  {
   "cell_type": "code",
   "execution_count": 8,
   "metadata": {},
   "outputs": [
    {
     "name": "stdout",
     "output_type": "stream",
     "text": [
      "20\n",
      "Documentation for formula_one functions goes here \n"
     ]
    }
   ],
   "source": [
    "def formula_one(x, y):\n",
    "    \"\"\"Documentation for formula_one functions goes here \"\"\"\n",
    "    z = x * y\n",
    "    return z\n",
    "\n",
    "print(formula_one(10, 2))\n",
    "print(formula_one.__doc__)"
   ]
  },
  {
   "cell_type": "code",
   "execution_count": 18,
   "metadata": {},
   "outputs": [
    {
     "name": "stdout",
     "output_type": "stream",
     "text": [
      "1\n",
      "2\n"
     ]
    }
   ],
   "source": [
    "#fancy\n",
    "simple_dict = {\n",
    "    \"one\": 1,\n",
    "    \"two\": 2\n",
    "}\n",
    "def main(d):\n",
    "    print(d['one'])\n",
    "    print(d['two'])\n",
    "    return\n",
    "\n",
    "main(simple_dict)\n"
   ]
  },
  {
   "cell_type": "code",
   "execution_count": 26,
   "metadata": {},
   "outputs": [
    {
     "name": "stdout",
     "output_type": "stream",
     "text": [
      "14\n"
     ]
    }
   ],
   "source": [
    "function_two = lambda x,y : x*y*7\n",
    "print(function_two(1,2))"
   ]
  },
  {
   "cell_type": "code",
   "execution_count": null,
   "metadata": {},
   "outputs": [],
   "source": []
  }
 ],
 "metadata": {
  "kernelspec": {
   "display_name": "Python 3",
   "language": "python",
   "name": "python3"
  },
  "language_info": {
   "codemirror_mode": {
    "name": "ipython",
    "version": 3
   },
   "file_extension": ".py",
   "mimetype": "text/x-python",
   "name": "python",
   "nbconvert_exporter": "python",
   "pygments_lexer": "ipython3",
   "version": "3.8.3"
  }
 },
 "nbformat": 4,
 "nbformat_minor": 4
}
