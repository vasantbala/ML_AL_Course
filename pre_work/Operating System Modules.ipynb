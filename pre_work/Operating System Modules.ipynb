{
 "cells": [
  {
   "cell_type": "markdown",
   "metadata": {},
   "source": [
    "# OS Module\n",
    "\n",
    "## import os\n",
    "\n",
    "1. name -> nt (windows), posix (all unix systems including mac)\n",
    "2. getcwd() - Current working directory\n",
    "3. listdir('c:\\temp')\n",
    "4. mkdir('dir1')\n",
    "5. rename('dir1', 'new_dir1')\n",
    "6. file = open('c:\\temp\\file1.txt', 'w') - r or w\n",
    "7. file.write('one\\n')\n",
    "8. file.close()\n"
   ]
  },
  {
   "cell_type": "code",
   "execution_count": 5,
   "metadata": {},
   "outputs": [
    {
     "name": "stdout",
     "output_type": "stream",
     "text": [
      "nt\n",
      "C:\\Users\\vasan\\ML_AL_Course\\pre_work\n",
      "['.ipynb_checkpoints', 'Conditional statements.ipynb', 'flow_control.ipynb', 'my_first_notebook.ipynb', 'OOP.ipynb', 'Operating System Modules.ipynb', 'User defined functions.ipynb']\n",
      "vasan\n"
     ]
    }
   ],
   "source": [
    "import os\n",
    "print(os.name)\n",
    "print(os.getcwd())\n",
    "print(os.listdir(os.getcwd()))\n",
    "print(os.getlogin())\n"
   ]
  },
  {
   "cell_type": "code",
   "execution_count": null,
   "metadata": {},
   "outputs": [],
   "source": []
  }
 ],
 "metadata": {
  "kernelspec": {
   "display_name": "Python 3",
   "language": "python",
   "name": "python3"
  },
  "language_info": {
   "codemirror_mode": {
    "name": "ipython",
    "version": 3
   },
   "file_extension": ".py",
   "mimetype": "text/x-python",
   "name": "python",
   "nbconvert_exporter": "python",
   "pygments_lexer": "ipython3",
   "version": "3.8.3"
  }
 },
 "nbformat": 4,
 "nbformat_minor": 4
}
