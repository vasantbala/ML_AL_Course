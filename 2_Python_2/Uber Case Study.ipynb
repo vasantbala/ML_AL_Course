{
 "cells": [
  {
   "cell_type": "code",
   "execution_count": 2,
   "metadata": {},
   "outputs": [],
   "source": [
    "import numpy as np\n",
    "import pandas as pd"
   ]
  },
  {
   "cell_type": "code",
   "execution_count": 3,
   "metadata": {},
   "outputs": [],
   "source": [
    "df = pd.read_csv('uberdrive.csv')"
   ]
  },
  {
   "cell_type": "code",
   "execution_count": 7,
   "metadata": {},
   "outputs": [
    {
     "output_type": "execute_result",
     "data": {
      "text/plain": "      START_DATE*       END_DATE* CATEGORY*       START*        STOP*  MILES*  \\\n0  1/1/2016 21:11  1/1/2016 21:17  Business  Fort Pierce  Fort Pierce     5.1   \n1   1/2/2016 1:25   1/2/2016 1:37  Business  Fort Pierce  Fort Pierce     5.0   \n2  1/2/2016 20:25  1/2/2016 20:38  Business  Fort Pierce  Fort Pierce     4.8   \n\n          PURPOSE*  \n0   Meal/Entertain  \n1              NaN  \n2  Errand/Supplies  ",
      "text/html": "<div>\n<style scoped>\n    .dataframe tbody tr th:only-of-type {\n        vertical-align: middle;\n    }\n\n    .dataframe tbody tr th {\n        vertical-align: top;\n    }\n\n    .dataframe thead th {\n        text-align: right;\n    }\n</style>\n<table border=\"1\" class=\"dataframe\">\n  <thead>\n    <tr style=\"text-align: right;\">\n      <th></th>\n      <th>START_DATE*</th>\n      <th>END_DATE*</th>\n      <th>CATEGORY*</th>\n      <th>START*</th>\n      <th>STOP*</th>\n      <th>MILES*</th>\n      <th>PURPOSE*</th>\n    </tr>\n  </thead>\n  <tbody>\n    <tr>\n      <th>0</th>\n      <td>1/1/2016 21:11</td>\n      <td>1/1/2016 21:17</td>\n      <td>Business</td>\n      <td>Fort Pierce</td>\n      <td>Fort Pierce</td>\n      <td>5.1</td>\n      <td>Meal/Entertain</td>\n    </tr>\n    <tr>\n      <th>1</th>\n      <td>1/2/2016 1:25</td>\n      <td>1/2/2016 1:37</td>\n      <td>Business</td>\n      <td>Fort Pierce</td>\n      <td>Fort Pierce</td>\n      <td>5.0</td>\n      <td>NaN</td>\n    </tr>\n    <tr>\n      <th>2</th>\n      <td>1/2/2016 20:25</td>\n      <td>1/2/2016 20:38</td>\n      <td>Business</td>\n      <td>Fort Pierce</td>\n      <td>Fort Pierce</td>\n      <td>4.8</td>\n      <td>Errand/Supplies</td>\n    </tr>\n  </tbody>\n</table>\n</div>"
     },
     "metadata": {},
     "execution_count": 7
    }
   ],
   "source": [
    "df.head(3)"
   ]
  },
  {
   "cell_type": "code",
   "execution_count": 4,
   "metadata": {
    "tags": []
   },
   "outputs": [
    {
     "output_type": "stream",
     "name": "stdout",
     "text": "<class 'pandas.core.frame.DataFrame'>\nRangeIndex: 1156 entries, 0 to 1155\nData columns (total 7 columns):\n #   Column       Non-Null Count  Dtype  \n---  ------       --------------  -----  \n 0   START_DATE*  1156 non-null   object \n 1   END_DATE*    1155 non-null   object \n 2   CATEGORY*    1155 non-null   object \n 3   START*       1155 non-null   object \n 4   STOP*        1155 non-null   object \n 5   MILES*       1156 non-null   float64\n 6   PURPOSE*     653 non-null    object \ndtypes: float64(1), object(6)\nmemory usage: 63.3+ KB\n"
    }
   ],
   "source": [
    "df.info()"
   ]
  },
  {
   "cell_type": "code",
   "execution_count": 8,
   "metadata": {},
   "outputs": [
    {
     "output_type": "execute_result",
     "data": {
      "text/plain": "           START_DATE*         END_DATE* CATEGORY*      START*      STOP*  \\\n1153  12/31/2016 21:32  12/31/2016 21:50  Business  Katunayake    Gampaha   \n1154  12/31/2016 22:08  12/31/2016 23:51  Business     Gampaha  Ilukwatta   \n1155            Totals               NaN       NaN         NaN        NaN   \n\n       MILES*        PURPOSE*  \n1153      6.4  Temporary Site  \n1154     48.2  Temporary Site  \n1155  12204.7             NaN  ",
      "text/html": "<div>\n<style scoped>\n    .dataframe tbody tr th:only-of-type {\n        vertical-align: middle;\n    }\n\n    .dataframe tbody tr th {\n        vertical-align: top;\n    }\n\n    .dataframe thead th {\n        text-align: right;\n    }\n</style>\n<table border=\"1\" class=\"dataframe\">\n  <thead>\n    <tr style=\"text-align: right;\">\n      <th></th>\n      <th>START_DATE*</th>\n      <th>END_DATE*</th>\n      <th>CATEGORY*</th>\n      <th>START*</th>\n      <th>STOP*</th>\n      <th>MILES*</th>\n      <th>PURPOSE*</th>\n    </tr>\n  </thead>\n  <tbody>\n    <tr>\n      <th>1153</th>\n      <td>12/31/2016 21:32</td>\n      <td>12/31/2016 21:50</td>\n      <td>Business</td>\n      <td>Katunayake</td>\n      <td>Gampaha</td>\n      <td>6.4</td>\n      <td>Temporary Site</td>\n    </tr>\n    <tr>\n      <th>1154</th>\n      <td>12/31/2016 22:08</td>\n      <td>12/31/2016 23:51</td>\n      <td>Business</td>\n      <td>Gampaha</td>\n      <td>Ilukwatta</td>\n      <td>48.2</td>\n      <td>Temporary Site</td>\n    </tr>\n    <tr>\n      <th>1155</th>\n      <td>Totals</td>\n      <td>NaN</td>\n      <td>NaN</td>\n      <td>NaN</td>\n      <td>NaN</td>\n      <td>12204.7</td>\n      <td>NaN</td>\n    </tr>\n  </tbody>\n</table>\n</div>"
     },
     "metadata": {},
     "execution_count": 8
    }
   ],
   "source": [
    "df.tail(3)"
   ]
  },
  {
   "cell_type": "code",
   "execution_count": 11,
   "metadata": {},
   "outputs": [
    {
     "output_type": "execute_result",
     "data": {
      "text/plain": "START_DATE*    1/1/2016 21:11\nEND_DATE*      1/1/2016 21:17\nCATEGORY*            Business\nSTART*            Fort Pierce\nSTOP*             Fort Pierce\nMILES*                    5.1\nPURPOSE*       Meal/Entertain\nName: 0, dtype: object"
     },
     "metadata": {},
     "execution_count": 11
    }
   ],
   "source": [
    "df.iloc[0]"
   ]
  },
  {
   "cell_type": "code",
   "execution_count": 17,
   "metadata": {},
   "outputs": [
    {
     "output_type": "execute_result",
     "data": {
      "text/plain": "'1/1/2016 21:11'"
     },
     "metadata": {},
     "execution_count": 17
    }
   ],
   "source": [
    "df.iloc[0][0]"
   ]
  },
  {
   "cell_type": "code",
   "execution_count": 21,
   "metadata": {},
   "outputs": [
    {
     "output_type": "execute_result",
     "data": {
      "text/plain": "0         1/1/2016 21:11\n1          1/2/2016 1:25\n2         1/2/2016 20:25\n3         1/5/2016 17:31\n4         1/6/2016 14:42\n              ...       \n1151    12/31/2016 13:24\n1152    12/31/2016 15:03\n1153    12/31/2016 21:32\n1154    12/31/2016 22:08\n1155              Totals\nName: START_DATE*, Length: 1156, dtype: object"
     },
     "metadata": {},
     "execution_count": 21
    }
   ],
   "source": [
    "df['START_DATE*']"
   ]
  },
  {
   "cell_type": "code",
   "execution_count": 56,
   "metadata": {},
   "outputs": [
    {
     "output_type": "execute_result",
     "data": {
      "text/plain": "         START_DATE*        END_DATE* CATEGORY*       START*  \\\n4     1/6/2016 14:42   1/6/2016 15:49  Business  Fort Pierce   \n36   1/20/2016 13:25  1/20/2016 14:19  Business      Raleigh   \n108   2/16/2016 3:21   2/16/2016 4:13  Business   Katunayaka   \n232  3/17/2016 12:52  3/17/2016 15:11  Business       Austin   \n233  3/17/2016 15:16  3/17/2016 15:58  Business         Katy   \n\n                STOP*  MILES*        PURPOSE*  \n4     West Palm Beach    63.7  Customer Visit  \n36               Cary    40.2  Customer Visit  \n108  Unknown Location    43.7  Customer Visit  \n232              Katy   136.0  Customer Visit  \n233           Houston    30.2         Meeting  ",
      "text/html": "<div>\n<style scoped>\n    .dataframe tbody tr th:only-of-type {\n        vertical-align: middle;\n    }\n\n    .dataframe tbody tr th {\n        vertical-align: top;\n    }\n\n    .dataframe thead th {\n        text-align: right;\n    }\n</style>\n<table border=\"1\" class=\"dataframe\">\n  <thead>\n    <tr style=\"text-align: right;\">\n      <th></th>\n      <th>START_DATE*</th>\n      <th>END_DATE*</th>\n      <th>CATEGORY*</th>\n      <th>START*</th>\n      <th>STOP*</th>\n      <th>MILES*</th>\n      <th>PURPOSE*</th>\n    </tr>\n  </thead>\n  <tbody>\n    <tr>\n      <th>4</th>\n      <td>1/6/2016 14:42</td>\n      <td>1/6/2016 15:49</td>\n      <td>Business</td>\n      <td>Fort Pierce</td>\n      <td>West Palm Beach</td>\n      <td>63.7</td>\n      <td>Customer Visit</td>\n    </tr>\n    <tr>\n      <th>36</th>\n      <td>1/20/2016 13:25</td>\n      <td>1/20/2016 14:19</td>\n      <td>Business</td>\n      <td>Raleigh</td>\n      <td>Cary</td>\n      <td>40.2</td>\n      <td>Customer Visit</td>\n    </tr>\n    <tr>\n      <th>108</th>\n      <td>2/16/2016 3:21</td>\n      <td>2/16/2016 4:13</td>\n      <td>Business</td>\n      <td>Katunayaka</td>\n      <td>Unknown Location</td>\n      <td>43.7</td>\n      <td>Customer Visit</td>\n    </tr>\n    <tr>\n      <th>232</th>\n      <td>3/17/2016 12:52</td>\n      <td>3/17/2016 15:11</td>\n      <td>Business</td>\n      <td>Austin</td>\n      <td>Katy</td>\n      <td>136.0</td>\n      <td>Customer Visit</td>\n    </tr>\n    <tr>\n      <th>233</th>\n      <td>3/17/2016 15:16</td>\n      <td>3/17/2016 15:58</td>\n      <td>Business</td>\n      <td>Katy</td>\n      <td>Houston</td>\n      <td>30.2</td>\n      <td>Meeting</td>\n    </tr>\n  </tbody>\n</table>\n</div>"
     },
     "metadata": {},
     "execution_count": 56
    }
   ],
   "source": [
    "df[df['MILES*'] > 30].head()"
   ]
  },
  {
   "cell_type": "code",
   "execution_count": null,
   "metadata": {},
   "outputs": [],
   "source": []
  }
 ],
 "metadata": {
  "kernelspec": {
   "display_name": "Python 3",
   "language": "python",
   "name": "python3"
  },
  "language_info": {
   "codemirror_mode": {
    "name": "ipython",
    "version": 3
   },
   "file_extension": ".py",
   "mimetype": "text/x-python",
   "name": "python",
   "nbconvert_exporter": "python",
   "pygments_lexer": "ipython3",
   "version": "3.8.3-final"
  }
 },
 "nbformat": 4,
 "nbformat_minor": 4
}