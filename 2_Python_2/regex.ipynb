{
 "cells": [
  {
   "cell_type": "markdown",
   "metadata": {},
   "source": [
    "## Regular Expression\n",
    "\n",
    "- import re\n",
    "- re.compile(r'abc')\n",
    "- re.compile(r'abc').finditer('text to search')\n",
    "- returns zero based index locations\n",
    "- Special characters\n",
    "    -  . any characters except new line\n",
    "    - \\s - white space | \\S - not a white space (includes new line)\n",
    "    - \\d digit(0-9) | \\D not a digit\n",
    "    - \\w - word (a-z, A-Z, 0-9, _) | \\W - not a word    \n",
    "    - \\b - word boundary | \\B - not a word boundary (example: 'Hello \\b')    \n",
    "    - ^  - beginning of the string | $  - end of string\n",
    "    - [] - matches characters in brackets | \\[^ \\] - matches characters not in brackets ( # to include hyphen, add - at the end char set )\n",
    "    - |  - logical or \n",
    "    - () - logical group\n",
    "\n",
    "- Quantifiers\n",
    "    - \\* 0 or more\n",
    "    - \\+ 1 or more\n",
    "    - ? 0 or one    \n",
    "    - {3,4} - range of number"
   ]
  },
  {
   "cell_type": "code",
   "execution_count": 1,
   "metadata": {},
   "outputs": [],
   "source": [
    "import re"
   ]
  },
  {
   "cell_type": "code",
   "execution_count": 74,
   "metadata": {},
   "outputs": [],
   "source": [
    "text_to_search = '''\n",
    "abcdefghijklmnopqrstuvwxyz\n",
    "ABCDEFGHIJKLMNOPQRSTUVWXYZ\n",
    "\n",
    "1234567890\n",
    "123abc\n",
    "\n",
    "Hello HelloHello\n",
    "\n",
    "MetaCharacters (Need to be escaped):\n",
    ". ^ $ * ? { } [ ]  \\ | ( )\n",
    "\n",
    "utexas.edu\n",
    "\n",
    "321-555-4321\n",
    "123.555.1234\n",
    "\n",
    "daniel-mitchell@utexas.edu\n",
    "daniel-mitchell@bbc.co.uk\n",
    "\n",
    "Mr. Johnson\n",
    "Mr Smith\n",
    "Ms Davis\n",
    "Mrs. Robinson\n",
    "Mr. T\n",
    "'''"
   ]
  },
  {
   "cell_type": "code",
   "execution_count": 3,
   "metadata": {
    "tags": []
   },
   "outputs": [
    {
     "name": "stdout",
     "output_type": "stream",
     "text": [
      "<re.Match object; span=(1, 4), match='abc'>\n",
      "<re.Match object; span=(70, 73), match='abc'>\n"
     ]
    }
   ],
   "source": [
    "pattern = re.compile(r'abc') # r is raw; no special interpretation of python\n",
    "matches = pattern.finditer(text_to_search)\n",
    "for mat in matches:\n",
    "    print(mat)"
   ]
  },
  {
   "cell_type": "code",
   "execution_count": 4,
   "metadata": {
    "tags": []
   },
   "outputs": [
    {
     "name": "stdout",
     "output_type": "stream",
     "text": [
      "abc\n"
     ]
    }
   ],
   "source": [
    "print(text_to_search[1:4]) # 0 index"
   ]
  },
  {
   "cell_type": "code",
   "execution_count": 7,
   "metadata": {
    "tags": []
   },
   "outputs": [
    {
     "name": "stdout",
     "output_type": "stream",
     "text": [
      "abc\n",
      "\n"
     ]
    }
   ],
   "source": [
    "print(text_to_search[70:74])"
   ]
  },
  {
   "cell_type": "markdown",
   "metadata": {},
   "source": [
    "## Searching special characters\n",
    "\n",
    "escape it using \\"
   ]
  },
  {
   "cell_type": "code",
   "execution_count": 18,
   "metadata": {},
   "outputs": [
    {
     "data": {
      "text/plain": [
       "['12',\n",
       " '34',\n",
       " '56',\n",
       " '78',\n",
       " '90',\n",
       " '12',\n",
       " '3a',\n",
       " '32',\n",
       " '55',\n",
       " '43',\n",
       " '21',\n",
       " '12',\n",
       " '55',\n",
       " '12',\n",
       " '34']"
      ]
     },
     "execution_count": 18,
     "metadata": {},
     "output_type": "execute_result"
    }
   ],
   "source": [
    "re.compile(r'\\d\\w').findall(text_to_search) # look for 2 char pattern where first char is digit and second char is word char (d, a-z, A-Z, _)"
   ]
  },
  {
   "cell_type": "code",
   "execution_count": 17,
   "metadata": {},
   "outputs": [
    {
     "data": {
      "text/plain": [
       "['1234567890', '123abc', '321', '555', '4321', '123', '555', '1234']"
      ]
     },
     "execution_count": 17,
     "metadata": {},
     "output_type": "execute_result"
    }
   ],
   "source": [
    "re.compile(r'\\d\\w*').findall(text_to_search)"
   ]
  },
  {
   "cell_type": "code",
   "execution_count": 20,
   "metadata": {},
   "outputs": [
    {
     "data": {
      "text/plain": [
       "['Hello', 'Hello', 'Hello']"
      ]
     },
     "execution_count": 20,
     "metadata": {},
     "output_type": "execute_result"
    }
   ],
   "source": [
    "# Word boundary\n",
    "re.compile(r'Hello').findall(text_to_search)\n"
   ]
  },
  {
   "cell_type": "code",
   "execution_count": 22,
   "metadata": {},
   "outputs": [
    {
     "data": {
      "text/plain": [
       "['Hello', 'Hello']"
      ]
     },
     "execution_count": 22,
     "metadata": {},
     "output_type": "execute_result"
    }
   ],
   "source": [
    "re.compile(r'Hello\\b').findall(text_to_search) # Hello HelloHello (ignores second hello because it does not have a word boundary at the end)"
   ]
  },
  {
   "cell_type": "code",
   "execution_count": 24,
   "metadata": {},
   "outputs": [
    {
     "data": {
      "text/plain": [
       "['Hello']"
      ]
     },
     "execution_count": 24,
     "metadata": {},
     "output_type": "execute_result"
    }
   ],
   "source": [
    "re.compile(r'\\bHello\\b').findall(text_to_search) # Hello HelloHello (ignores second and third hello because it does not have a word boundary at start and end)"
   ]
  },
  {
   "cell_type": "code",
   "execution_count": 28,
   "metadata": {},
   "outputs": [
    {
     "data": {
      "text/plain": [
       "['\\n']"
      ]
     },
     "execution_count": 28,
     "metadata": {},
     "output_type": "execute_result"
    }
   ],
   "source": [
    "re.compile(r'^\\s').findall(text_to_search) "
   ]
  },
  {
   "cell_type": "code",
   "execution_count": 30,
   "metadata": {},
   "outputs": [
    {
     "data": {
      "text/plain": [
       "['\\n', '\\n']"
      ]
     },
     "execution_count": 30,
     "metadata": {},
     "output_type": "execute_result"
    }
   ],
   "source": [
    "re.compile(r'\\s').findall(text_to_search)[1:3]"
   ]
  },
  {
   "cell_type": "markdown",
   "metadata": {},
   "source": [
    "## Character set"
   ]
  },
  {
   "cell_type": "code",
   "execution_count": 31,
   "metadata": {},
   "outputs": [
    {
     "data": {
      "text/plain": [
       "['12', '34', '12', '3a', '32', '32', '12', '12', '34']"
      ]
     },
     "execution_count": 31,
     "metadata": {},
     "output_type": "execute_result"
    }
   ],
   "source": [
    "re.compile(r'[123]\\w').findall(text_to_search)\n"
   ]
  },
  {
   "cell_type": "code",
   "execution_count": 33,
   "metadata": {},
   "outputs": [
    {
     "data": {
      "text/plain": [
       "['ab', 'cd', 'ef', 'gh', 'ij']"
      ]
     },
     "execution_count": 33,
     "metadata": {},
     "output_type": "execute_result"
    }
   ],
   "source": [
    "re.compile(r'[a-z][a-z]').findall(text_to_search)[0:5]\n"
   ]
  },
  {
   "cell_type": "code",
   "execution_count": 37,
   "metadata": {},
   "outputs": [
    {
     "data": {
      "text/plain": [
       "['ab', 'cd', 'ef', 'gh', 'ij']"
      ]
     },
     "execution_count": 37,
     "metadata": {},
     "output_type": "execute_result"
    }
   ],
   "source": [
    "re.compile(r'[a-zA-Z0-9][a-zA-Z-]').findall(text_to_search)[0:5] # to include hyphen, add - at the end char set "
   ]
  },
  {
   "cell_type": "code",
   "execution_count": 39,
   "metadata": {},
   "outputs": [
    {
     "data": {
      "text/plain": [
       "['ab', 'cd', 'ef', 'gh', 'ij']"
      ]
     },
     "execution_count": 39,
     "metadata": {},
     "output_type": "execute_result"
    }
   ],
   "source": [
    "re.compile(r'[(a-z)(A-Z)(0-9)][(a-z)(A-Z)(-)]').findall(text_to_search)[0:5] # () is group\n"
   ]
  },
  {
   "cell_type": "code",
   "execution_count": 75,
   "metadata": {},
   "outputs": [
    {
     "data": {
      "text/plain": [
       "['daniel-mitchell@utexas.edu', 'daniel-mitchell@bbc.co.uk']"
      ]
     },
     "execution_count": 75,
     "metadata": {},
     "output_type": "execute_result"
    }
   ],
   "source": [
    "re.compile(r'[a-zA-Z0-9-]+[@]+[a-zA-Z\\.$]+').findall(text_to_search)"
   ]
  },
  {
   "cell_type": "code",
   "execution_count": 72,
   "metadata": {},
   "outputs": [
    {
     "data": {
      "text/plain": [
       "['Mr. Johnson', 'Mr Smith', 'Ms Davis', 'Mrs. Robinson', 'Mr. T']"
      ]
     },
     "execution_count": 72,
     "metadata": {},
     "output_type": "execute_result"
    }
   ],
   "source": [
    "# Mr. Johnson Mr Smith Ms Davis Mrs. Robinson Mr. T\n",
    "re.compile(r'[M][r|s]+[\\.]? [a-zA-Z]*').findall(text_to_search)"
   ]
  },
  {
   "cell_type": "code",
   "execution_count": 73,
   "metadata": {},
   "outputs": [
    {
     "data": {
      "text/plain": [
       "['321-555-4321', '123.555.1234']"
      ]
     },
     "execution_count": 73,
     "metadata": {},
     "output_type": "execute_result"
    }
   ],
   "source": [
    "# 321-555-4321 123.555.1234\n",
    "re.compile(r'\\d{3}[.-]\\d{3}[.-]\\d{4}').findall(text_to_search)"
   ]
  },
  {
   "cell_type": "markdown",
   "metadata": {},
   "source": [
    "## Accessing from match object"
   ]
  },
  {
   "cell_type": "code",
   "execution_count": 77,
   "metadata": {
    "tags": []
   },
   "outputs": [
    {
     "name": "stdout",
     "output_type": "stream",
     "text": [
      "<re.Match object; span=(170, 182), match='321-555-4321'>\n",
      "<re.Match object; span=(183, 195), match='123.555.1234'>\n"
     ]
    }
   ],
   "source": [
    "pattern = re.compile(r'\\d{3}[.-]\\d{3}[.-]\\d{4}')\n",
    "matches = pattern.finditer(text_to_search)\n",
    "for mat in matches:\n",
    "    print(mat)"
   ]
  },
  {
   "cell_type": "code",
   "execution_count": 83,
   "metadata": {
    "tags": []
   },
   "outputs": [
    {
     "name": "stdout",
     "output_type": "stream",
     "text": [
      "(170, 182)\n",
      "321-555-4321\n",
      "321-555-4321\n",
      "(183, 195)\n",
      "123.555.1234\n",
      "123.555.1234\n"
     ]
    }
   ],
   "source": [
    "pattern = re.compile(r'\\d{3}[.-]\\d{3}[.-]\\d{4}')\n",
    "matches = pattern.finditer(text_to_search)\n",
    "for mat in matches:\n",
    "    print(mat.span(0)) #array of start and end index\n",
    "    print(mat.group(0)) #substring\n",
    "    print(text_to_search[mat.span(0)[0]:mat.span(0)[1]])"
   ]
  },
  {
   "cell_type": "code",
   "execution_count": 85,
   "metadata": {},
   "outputs": [],
   "source": [
    "urls = r'''\n",
    "https://www.google.com\n",
    "http://yahoo.com\n",
    "https://www.whitehouse.gov\n",
    "https://craigslist.org\n",
    "'''"
   ]
  },
  {
   "cell_type": "code",
   "execution_count": 100,
   "metadata": {
    "tags": []
   },
   "outputs": [
    {
     "name": "stdout",
     "output_type": "stream",
     "text": [
      "google.com\n",
      "yahoo.com\n",
      "whitehouse.gov\n",
      "craigslist.org\n"
     ]
    }
   ],
   "source": [
    "matches = re.compile(r'https?://(www\\.)?(\\w+)(\\.\\w+)').finditer(urls)\n",
    "for mat in matches:    \n",
    "    print(mat.group(2) + mat.group(3)) #0 whole sub-string; 1..n each matching group. 1 - \n",
    "    "
   ]
  },
  {
   "cell_type": "code",
   "execution_count": 103,
   "metadata": {
    "tags": []
   },
   "outputs": [
    {
     "name": "stdout",
     "output_type": "stream",
     "text": [
      "google\n",
      "yahoo\n",
      "whitehouse\n",
      "craigslist\n"
     ]
    }
   ],
   "source": [
    "matches = re.compile(r'https?://(www\\.)?(\\w+)(\\.\\w+)').finditer(urls)\n",
    "for mat in matches:    \n",
    "    print(urls[mat.span(2)[0]:mat.span(2)[1]]) "
   ]
  },
  {
   "cell_type": "code",
   "execution_count": 105,
   "metadata": {
    "tags": []
   },
   "outputs": [
    {
     "name": "stdout",
     "output_type": "stream",
     "text": [
      "www.google.com\n",
      "yahoo.com\n",
      "www.whitehouse.gov\n",
      "craigslist.org\n"
     ]
    }
   ],
   "source": [
    "matches = re.compile(r'https?://(www\\.)?(\\w+)(\\.\\w+)').finditer(urls)\n",
    "for mat in matches:    \n",
    "    print(urls[mat.span(1)[0]:mat.span(1)[1]] + urls[mat.span(2)[0]:mat.span(2)[1]] + urls[mat.span(3)[0]:mat.span(3)[1]])"
   ]
  },
  {
   "cell_type": "code",
   "execution_count": null,
   "metadata": {},
   "outputs": [],
   "source": []
  }
 ],
 "metadata": {
  "kernelspec": {
   "display_name": "Python 3",
   "language": "python",
   "name": "python3"
  },
  "language_info": {
   "codemirror_mode": {
    "name": "ipython",
    "version": 3
   },
   "file_extension": ".py",
   "mimetype": "text/x-python",
   "name": "python",
   "nbconvert_exporter": "python",
   "pygments_lexer": "ipython3",
   "version": "3.8.3"
  }
 },
 "nbformat": 4,
 "nbformat_minor": 2
}
