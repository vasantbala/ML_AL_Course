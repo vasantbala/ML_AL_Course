{
 "cells": [
  {
   "cell_type": "markdown",
   "metadata": {},
   "source": [
    "# NumPy\n",
    "1. numpy is python's package for doing math that is more advanced than +-*\n",
    "2. Has array and matrix data types. unlike lists, the values on it should be of single datatype"
   ]
  },
  {
   "cell_type": "code",
   "execution_count": 1,
   "metadata": {},
   "outputs": [],
   "source": [
    "import numpy as np"
   ]
  },
  {
   "cell_type": "code",
   "execution_count": 4,
   "metadata": {},
   "outputs": [
    {
     "name": "stdout",
     "output_type": "stream",
     "text": [
      "-1.0\n",
      "1.1\n",
      "5.2\n"
     ]
    }
   ],
   "source": [
    "print(np.cos(np.pi))\n",
    "print(np.sqrt(1.21))\n",
    "print(np.log(np.exp(5.2)))"
   ]
  },
  {
   "cell_type": "code",
   "execution_count": 10,
   "metadata": {},
   "outputs": [
    {
     "name": "stdout",
     "output_type": "stream",
     "text": [
      "[1 2 3]\n",
      "\n",
      "[[ 5 10 15]\n",
      " [ 2  4  6]\n",
      " [ 3  6  9]]\n",
      "\n",
      "[[ 5  2  3]\n",
      " [10  4  6]\n",
      " [15  6  9]]\n"
     ]
    }
   ],
   "source": [
    "#numpy has arrays by converting lists\n",
    "vector = np.array([1,2,3])\n",
    "print(vector)\n",
    "matrix = np.array([[5,10,15],[2,4,6],[3,6,9]])\n",
    "print('')\n",
    "print(matrix)\n",
    "print('')\n",
    "#Transpose\n",
    "print(matrix.T)"
   ]
  },
  {
   "cell_type": "code",
   "execution_count": 14,
   "metadata": {},
   "outputs": [
    {
     "name": "stdout",
     "output_type": "stream",
     "text": [
      "[ 0  1  2  3  4  5  6  7  8  9 10 11 12 13 14]\n",
      "\n",
      "[ 3  9 15]\n"
     ]
    }
   ],
   "source": [
    "#one of the other multiple ways to create np array\n",
    "vector2 = np.arange(0,15)\n",
    "print(vector2)\n",
    "print('')\n",
    "vector3 = np.arange(3,21,6)\n",
    "print(vector3)"
   ]
  },
  {
   "cell_type": "code",
   "execution_count": 18,
   "metadata": {},
   "outputs": [
    {
     "name": "stdout",
     "output_type": "stream",
     "text": [
      "[0.         0.55555556 1.11111111 1.66666667 2.22222222 2.77777778\n",
      " 3.33333333 3.88888889 4.44444444 5.        ]\n",
      "\n",
      "[[0.         0.55555556]\n",
      " [1.11111111 1.66666667]\n",
      " [2.22222222 2.77777778]\n",
      " [3.33333333 3.88888889]\n",
      " [4.44444444 5.        ]]\n"
     ]
    }
   ],
   "source": [
    "#linspace start and end points in linspace that are both inclusive\n",
    "#linear space - equally spaced vector. 0 and 5 are start and end. 10 is number of equal points\n",
    "#reshape - returns matrix from vector. 5 rows and 2 columns\n",
    "vector4 = np.linspace(0,5,10)\n",
    "print(vector4)\n",
    "print('')\n",
    "print(vector4.reshape(5,2))"
   ]
  },
  {
   "cell_type": "code",
   "execution_count": 20,
   "metadata": {},
   "outputs": [
    {
     "name": "stdout",
     "output_type": "stream",
     "text": [
      "[[0. 0. 0.]\n",
      " [0. 0. 0.]\n",
      " [0. 0. 0.]\n",
      " [0. 0. 0.]\n",
      " [0. 0. 0.]]\n",
      "\n",
      "[[1. 1. 1. 1. 1.]\n",
      " [1. 1. 1. 1. 1.]\n",
      " [1. 1. 1. 1. 1.]]\n",
      "\n",
      "[[1. 0. 0. 0. 0.]\n",
      " [0. 1. 0. 0. 0.]\n",
      " [0. 0. 1. 0. 0.]\n",
      " [0. 0. 0. 1. 0.]\n",
      " [0. 0. 0. 0. 1.]]\n"
     ]
    }
   ],
   "source": [
    "# zeros/one/eye - create matrix of all zeros/ones/identity matrix(all zero except center diagonal)\n",
    "matrix2 = np.zeros([5,3])\n",
    "print(matrix2)\n",
    "print('')\n",
    "matrix3 = np.ones((3,5))\n",
    "print(matrix3)\n",
    "print('')\n",
    "matrix4 = np.eye(5)\n",
    "print(matrix4)"
   ]
  },
  {
   "cell_type": "code",
   "execution_count": 21,
   "metadata": {},
   "outputs": [
    {
     "name": "stdout",
     "output_type": "stream",
     "text": [
      "[1 2 3 4 5]\n",
      "[3 4 5 6 7]\n",
      "[ 4  6  8 10 12]\n",
      "[1.         0.5        0.33333333 0.25       0.2       ]\n",
      "[1.73205081 2.         2.23606798 2.44948974 2.64575131]\n"
     ]
    }
   ],
   "source": [
    "# +*-/ of arrays is possible if they are the right size. Applies artihmetic to each \n",
    "vector5 = np.arange(1,6)\n",
    "vector6 = np.arange(3,8)\n",
    "print(vector5)\n",
    "print(vector6)\n",
    "print(vector5 + vector6)\n",
    "print(1/vector5)\n",
    "print(np.sqrt(vector6))"
   ]
  },
  {
   "cell_type": "code",
   "execution_count": 22,
   "metadata": {},
   "outputs": [
    {
     "name": "stdout",
     "output_type": "stream",
     "text": [
      "[[ 5 10 15]\n",
      " [ 2  4  6]\n",
      " [ 3  6  9]]\n",
      "[1 2 3]\n",
      "[70 28 42]\n"
     ]
    }
   ],
   "source": [
    "print(matrix)\n",
    "print(vector)\n",
    "product = np.matmul(matrix, vector)\n",
    "print(product)"
   ]
  },
  {
   "cell_type": "code",
   "execution_count": 34,
   "metadata": {},
   "outputs": [
    {
     "name": "stdout",
     "output_type": "stream",
     "text": [
      "[ 30.07407407  34.74074074 -29.55555556]\n",
      "\n",
      "[[ 0.5         0.18518519 -0.24074074]\n",
      " [ 0.5        -0.14814815  0.09259259]\n",
      " [-0.5         0.11111111  0.05555556]]\n"
     ]
    }
   ],
   "source": [
    "linearmatrix=np.array([[1,2,1],[4,5,9],[1,8,9]])\n",
    "print(np.linalg.solve(linearmatrix, product))\n",
    "print('')\n",
    "print(np.linalg.inv(linearmatrix))"
   ]
  },
  {
   "cell_type": "code",
   "execution_count": 37,
   "metadata": {},
   "outputs": [
    {
     "name": "stdout",
     "output_type": "stream",
     "text": [
      "['blue' 'red' 'orange' 'purple' 'purple' 'orange' 'Red' '6']\n",
      "['6' 'Red' 'blue' 'orange' 'purple' 'red']\n"
     ]
    }
   ],
   "source": [
    "#unique values in array\n",
    "#notice that number 6 is converted to string\n",
    "vector7 = np.array(['blue', 'red', 'orange', 'purple', 'purple', 'orange', 'Red', 6])\n",
    "print(vector7)\n",
    "print(np.unique(vector7))"
   ]
  },
  {
   "cell_type": "code",
   "execution_count": 38,
   "metadata": {},
   "outputs": [
    {
     "name": "stdout",
     "output_type": "stream",
     "text": [
      "[[0.26990495 0.82574233 0.10671751 0.66046762 0.7107079 ]\n",
      " [0.45498645 0.57744203 0.22775362 0.72449612 0.13602606]\n",
      " [0.02797984 0.37109638 0.21813948 0.33700637 0.60077186]\n",
      " [0.68877032 0.80654885 0.81877004 0.47480766 0.08678287]\n",
      " [0.22501548 0.14324622 0.7808627  0.49422075 0.37686959]]\n",
      "\n",
      "[[ 0.29289928 -0.65707858  2.8147462   2.11144527 -0.83602536]\n",
      " [-0.41283374 -0.26340239 -1.65699961  1.13664235 -0.17446923]\n",
      " [ 0.45985522  0.58160625 -1.87215191 -0.27606812  1.66126186]\n",
      " [ 0.50726945  0.67539719 -0.46635358  0.61288174 -0.23104628]\n",
      " [ 1.35358611  1.61925496 -0.25107291  0.84917032 -0.2824914 ]\n",
      " [-0.16630086 -1.33349295 -0.05316999 -0.15537382  0.22452093]\n",
      " [ 0.25495738 -1.47052106 -0.65087103  0.53271502 -0.65935223]\n",
      " [ 0.24217974 -1.11831406  1.33132319  1.65044187 -0.74305576]\n",
      " [ 0.97747325  0.46091597  0.91904357  0.48345986 -0.14635308]\n",
      " [ 0.83578033  1.34597125  0.8000341  -0.24330497 -0.68694396]]\n"
     ]
    }
   ],
   "source": [
    "#generate samples of random variables\n",
    "rand_mat = np.random.rand(5,5) #uniform random variable\n",
    "print(rand_mat)\n",
    "rand_mat2 = np.random.randn(10,5) #standard normal random variable\n",
    "print('')\n",
    "print(rand_mat2)"
   ]
  },
  {
   "cell_type": "code",
   "execution_count": 39,
   "metadata": {},
   "outputs": [
    {
     "name": "stdout",
     "output_type": "stream",
     "text": [
      "0.4458053204259469\n",
      "0.9701805989371288\n"
     ]
    }
   ],
   "source": [
    "print(np.mean(rand_mat))\n",
    "print(np.std(rand_mat2))"
   ]
  },
  {
   "cell_type": "code",
   "execution_count": 41,
   "metadata": {},
   "outputs": [
    {
     "name": "stdout",
     "output_type": "stream",
     "text": [
      "0.02797983712693064\n",
      "2.814746203200426\n"
     ]
    }
   ],
   "source": [
    "print(np.min(rand_mat))\n",
    "print(np.max(rand_mat2))"
   ]
  },
  {
   "cell_type": "markdown",
   "metadata": {},
   "source": [
    "## Accessing arrays and matrices"
   ]
  },
  {
   "cell_type": "code",
   "execution_count": 43,
   "metadata": {},
   "outputs": [
    {
     "name": "stdout",
     "output_type": "stream",
     "text": [
      "[ 0.05761441  0.54595174 -0.52512905 -1.32408726  0.96657899 -0.99409671\n",
      "  2.58767496  0.70937022 -0.91303637  0.32398355  0.45849734  1.29256909\n",
      "  0.26872895  0.55510626 -0.08325118 -0.13201308  0.90914252 -1.52787478\n",
      "  0.04079757]\n",
      "2.58767496397755\n"
     ]
    }
   ],
   "source": [
    "rand_vec = np.random.randn(19)\n",
    "print(rand_vec)\n",
    "print(rand_vec[6])"
   ]
  },
  {
   "cell_type": "code",
   "execution_count": 47,
   "metadata": {},
   "outputs": [
    {
     "name": "stdout",
     "output_type": "stream",
     "text": [
      "[ 0.96657899 -0.99409671  2.58767496  0.70937022 -0.91303637]\n"
     ]
    }
   ],
   "source": [
    "#access multiple items in array\n",
    "print(rand_vec[4:9])"
   ]
  },
  {
   "cell_type": "code",
   "execution_count": 57,
   "metadata": {},
   "outputs": [
    {
     "name": "stdout",
     "output_type": "stream",
     "text": [
      "[ 0.05761441 -1.32408726  2.58767496  0.32398355  0.26872895]\n",
      "[ 0  3  6  9 12]\n",
      "[ 0.05761441 -1.32408726  2.58767496  0.32398355  0.26872895]\n"
     ]
    }
   ],
   "source": [
    "#access non consequtive entries using np.arange\n",
    "print(rand_vec[np.array([0,3,6,9,12])])\n",
    "print(np.arange(0,15,3))\n",
    "print(rand_vec[np.arange(0,15,3)])\n",
    "      "
   ]
  },
  {
   "cell_type": "code",
   "execution_count": 59,
   "metadata": {
    "scrolled": true
   },
   "outputs": [
    {
     "name": "stdout",
     "output_type": "stream",
     "text": [
      "[[0.26990495 0.82574233 0.10671751 0.66046762 0.7107079 ]\n",
      " [0.45498645 0.57744203 0.22775362 0.72449612 0.13602606]\n",
      " [0.02797984 0.37109638 0.21813948 0.33700637 0.60077186]\n",
      " [0.68877032 0.80654885 0.81877004 0.47480766 0.08678287]\n",
      " [0.22501548 0.14324622 0.7808627  0.49422075 0.37686959]]\n",
      "0.22775361625961088\n",
      "0.22775361625961088\n"
     ]
    }
   ],
   "source": [
    "#accessing from matrix\n",
    "print(rand_mat)\n",
    "print(rand_mat[1][2]) # <- list support this \n",
    "print(rand_mat[1,2]) # <- only numpy matrix supports this\n"
   ]
  },
  {
   "cell_type": "code",
   "execution_count": 61,
   "metadata": {},
   "outputs": [
    {
     "name": "stdout",
     "output_type": "stream",
     "text": [
      "[[0.82574233 0.10671751]\n",
      " [0.57744203 0.22775362]]\n"
     ]
    }
   ],
   "source": [
    "print(rand_mat[0:2, 1:3]) # <- 0:2 rows 0 and 1; 1:3 cols 1 and 2"
   ]
  },
  {
   "cell_type": "markdown",
   "metadata": {},
   "source": [
    "## Change values"
   ]
  },
  {
   "cell_type": "code",
   "execution_count": 62,
   "metadata": {},
   "outputs": [
    {
     "name": "stdout",
     "output_type": "stream",
     "text": [
      "[ 0.05761441  0.54595174 -0.52512905 -1.32408726  0.96657899 -0.99409671\n",
      "  2.58767496  0.70937022 -0.91303637  0.32398355  0.45849734  1.29256909\n",
      "  0.26872895  0.55510626 -0.08325118 -0.13201308  0.90914252 -1.52787478\n",
      "  0.04079757]\n",
      "\n",
      "\n",
      "[ 0.05761441  0.54595174 -0.52512905  1.          2.         -0.99409671\n",
      "  2.58767496  0.70937022 -0.91303637  0.32398355  0.45849734  1.29256909\n",
      "  0.26872895  0.55510626 -0.08325118 -0.13201308  0.90914252 -1.52787478\n",
      "  0.04079757]\n"
     ]
    }
   ],
   "source": [
    "print(rand_vec)\n",
    "rand_vec[3:5] = 4\n",
    "print('')\n",
    "rand_vec[3:5] = [1,2]\n",
    "print('')\n",
    "print(rand_vec)"
   ]
  },
  {
   "cell_type": "code",
   "execution_count": 63,
   "metadata": {},
   "outputs": [
    {
     "name": "stdout",
     "output_type": "stream",
     "text": [
      "[[0.26990495 0.82574233 0.10671751 0.66046762 0.7107079 ]\n",
      " [0.45498645 0.57744203 0.22775362 0.72449612 0.13602606]\n",
      " [0.02797984 0.37109638 0.21813948 0.33700637 0.60077186]\n",
      " [0.68877032 0.80654885 0.81877004 0.47480766 0.08678287]\n",
      " [0.22501548 0.14324622 0.7808627  0.49422075 0.37686959]]\n",
      "\n",
      "[[0.26990495 0.82574233 0.10671751 0.66046762 0.7107079 ]\n",
      " [0.45498645 0.57744203 0.22775362 0.         0.        ]\n",
      " [0.02797984 0.37109638 0.21813948 0.         0.        ]\n",
      " [0.68877032 0.80654885 0.81877004 0.47480766 0.08678287]\n",
      " [0.22501548 0.14324622 0.7808627  0.49422075 0.37686959]]\n"
     ]
    }
   ],
   "source": [
    "print(rand_mat)\n",
    "rand_mat[1:3,3:5] = 0\n",
    "print('')\n",
    "print(rand_mat)"
   ]
  },
  {
   "cell_type": "code",
   "execution_count": 64,
   "metadata": {},
   "outputs": [
    {
     "name": "stdout",
     "output_type": "stream",
     "text": [
      "[[0.26990495 0.82574233 0.10671751]\n",
      " [0.45498645 0.57744203 0.22775362]]\n",
      "[[3. 3. 3.]\n",
      " [3. 3. 3.]]\n"
     ]
    }
   ],
   "source": [
    "# same as list; if not cloned, will change values of the source arrays/matrices\n",
    "sub_mat = rand_mat[0:2,0:3]\n",
    "print(sub_mat)\n",
    "sub_mat[:]=3\n",
    "print(sub_mat)"
   ]
  },
  {
   "cell_type": "code",
   "execution_count": 66,
   "metadata": {},
   "outputs": [
    {
     "name": "stdout",
     "output_type": "stream",
     "text": [
      "[[99. 99. 99.]\n",
      " [99. 99. 99.]]\n",
      "[[3.         3.         3.         0.66046762 0.7107079 ]\n",
      " [3.         3.         3.         0.         0.        ]\n",
      " [0.02797984 0.37109638 0.21813948 0.         0.        ]\n",
      " [0.68877032 0.80654885 0.81877004 0.47480766 0.08678287]\n",
      " [0.22501548 0.14324622 0.7808627  0.49422075 0.37686959]]\n"
     ]
    }
   ],
   "source": [
    "sub_mat2 = rand_mat[0:2,0:3].copy()\n",
    "sub_mat2[:] = 99\n",
    "print(sub_mat2)\n",
    "print(rand_mat)"
   ]
  },
  {
   "cell_type": "markdown",
   "metadata": {},
   "source": [
    "## Access entries with logical expression "
   ]
  },
  {
   "cell_type": "code",
   "execution_count": 67,
   "metadata": {},
   "outputs": [
    {
     "name": "stdout",
     "output_type": "stream",
     "text": [
      "[-0.38602967  0.92131699  0.37349212 -0.14995232  0.45825477  1.52526731\n",
      " -0.16581949 -0.37876257  0.421361   -1.58567122 -0.50904873 -0.9598055\n",
      "  0.5327255   0.37842655 -1.98432792]\n",
      "[False  True  True False  True  True False False  True False False False\n",
      "  True  True False]\n",
      "[0.92131699 0.37349212 0.45825477 1.52526731 0.421361   0.5327255\n",
      " 0.37842655]\n"
     ]
    }
   ],
   "source": [
    "rand_vec = np.random.randn(15)\n",
    "\n",
    "print(rand_vec)\n",
    "print(rand_vec>0)\n",
    "print(rand_vec[rand_vec>0]) # <- Access values that are greater than 0"
   ]
  },
  {
   "cell_type": "code",
   "execution_count": 68,
   "metadata": {},
   "outputs": [
    {
     "name": "stdout",
     "output_type": "stream",
     "text": [
      "[[ 0.29289928 -0.65707858  2.8147462   2.11144527 -0.83602536]\n",
      " [-0.41283374 -0.26340239 -1.65699961  1.13664235 -0.17446923]\n",
      " [ 0.45985522  0.58160625 -1.87215191 -0.27606812  1.66126186]\n",
      " [ 0.50726945  0.67539719 -0.46635358  0.61288174 -0.23104628]\n",
      " [ 1.35358611  1.61925496 -0.25107291  0.84917032 -0.2824914 ]\n",
      " [-0.16630086 -1.33349295 -0.05316999 -0.15537382  0.22452093]\n",
      " [ 0.25495738 -1.47052106 -0.65087103  0.53271502 -0.65935223]\n",
      " [ 0.24217974 -1.11831406  1.33132319  1.65044187 -0.74305576]\n",
      " [ 0.97747325  0.46091597  0.91904357  0.48345986 -0.14635308]\n",
      " [ 0.83578033  1.34597125  0.8000341  -0.24330497 -0.68694396]]\n",
      "[0.29289928 2.8147462  2.11144527 1.13664235 0.45985522 0.58160625\n",
      " 1.66126186 0.50726945 0.67539719 0.61288174 1.35358611 1.61925496\n",
      " 0.84917032 0.22452093 0.25495738 0.53271502 0.24217974 1.33132319\n",
      " 1.65044187 0.97747325 0.46091597 0.91904357 0.48345986 0.83578033\n",
      " 1.34597125 0.8000341 ]\n"
     ]
    }
   ],
   "source": [
    "print(rand_mat2)\n",
    "print(rand_mat2[rand_mat2>0])"
   ]
  },
  {
   "cell_type": "markdown",
   "metadata": {},
   "source": [
    "## Save arrays/matrices on the disk"
   ]
  },
  {
   "cell_type": "code",
   "execution_count": 69,
   "metadata": {},
   "outputs": [],
   "source": [
    "np.save('saved_file_name', rand_mat2)"
   ]
  },
  {
   "cell_type": "code",
   "execution_count": 76,
   "metadata": {},
   "outputs": [],
   "source": [
    "np.savez('zipped_file_name', rand_mat=rand_mat, rand_mat2=rand_mat2)"
   ]
  },
  {
   "cell_type": "code",
   "execution_count": 81,
   "metadata": {},
   "outputs": [
    {
     "name": "stdout",
     "output_type": "stream",
     "text": [
      "[[ 0.29289928 -0.65707858  2.8147462   2.11144527 -0.83602536]\n",
      " [-0.41283374 -0.26340239 -1.65699961  1.13664235 -0.17446923]\n",
      " [ 0.45985522  0.58160625 -1.87215191 -0.27606812  1.66126186]\n",
      " [ 0.50726945  0.67539719 -0.46635358  0.61288174 -0.23104628]\n",
      " [ 1.35358611  1.61925496 -0.25107291  0.84917032 -0.2824914 ]\n",
      " [-0.16630086 -1.33349295 -0.05316999 -0.15537382  0.22452093]\n",
      " [ 0.25495738 -1.47052106 -0.65087103  0.53271502 -0.65935223]\n",
      " [ 0.24217974 -1.11831406  1.33132319  1.65044187 -0.74305576]\n",
      " [ 0.97747325  0.46091597  0.91904357  0.48345986 -0.14635308]\n",
      " [ 0.83578033  1.34597125  0.8000341  -0.24330497 -0.68694396]]\n",
      "\n",
      "<numpy.lib.npyio.NpzFile object at 0x0000024F202D48B0>\n",
      "\n",
      "[[3.         3.         3.         0.66046762 0.7107079 ]\n",
      " [3.         3.         3.         0.         0.        ]\n",
      " [0.02797984 0.37109638 0.21813948 0.         0.        ]\n",
      " [0.68877032 0.80654885 0.81877004 0.47480766 0.08678287]\n",
      " [0.22501548 0.14324622 0.7808627  0.49422075 0.37686959]]\n",
      "\n",
      "[[ 0.29289928 -0.65707858  2.8147462   2.11144527 -0.83602536]\n",
      " [-0.41283374 -0.26340239 -1.65699961  1.13664235 -0.17446923]\n",
      " [ 0.45985522  0.58160625 -1.87215191 -0.27606812  1.66126186]\n",
      " [ 0.50726945  0.67539719 -0.46635358  0.61288174 -0.23104628]\n",
      " [ 1.35358611  1.61925496 -0.25107291  0.84917032 -0.2824914 ]\n",
      " [-0.16630086 -1.33349295 -0.05316999 -0.15537382  0.22452093]\n",
      " [ 0.25495738 -1.47052106 -0.65087103  0.53271502 -0.65935223]\n",
      " [ 0.24217974 -1.11831406  1.33132319  1.65044187 -0.74305576]\n",
      " [ 0.97747325  0.46091597  0.91904357  0.48345986 -0.14635308]\n",
      " [ 0.83578033  1.34597125  0.8000341  -0.24330497 -0.68694396]]\n"
     ]
    }
   ],
   "source": [
    "#load\n",
    "loaded_vec = np.load('saved_file_name.npy')\n",
    "loaded_zip = np.load('zipped_file_name.npz')\n",
    "\n",
    "print(loaded_vec)\n",
    "print('')\n",
    "print(loaded_zip)\n",
    "print('')\n",
    "print(loaded_zip['rand_mat'])\n",
    "print('')\n",
    "print(loaded_zip['rand_mat2'])\n"
   ]
  },
  {
   "cell_type": "code",
   "execution_count": 83,
   "metadata": {},
   "outputs": [
    {
     "name": "stdout",
     "output_type": "stream",
     "text": [
      "[[3.         3.         3.         0.66046762 0.7107079 ]\n",
      " [3.         3.         3.         0.         0.        ]\n",
      " [0.02797984 0.37109638 0.21813948 0.         0.        ]\n",
      " [0.68877032 0.80654885 0.81877004 0.47480766 0.08678287]\n",
      " [0.22501548 0.14324622 0.7808627  0.49422075 0.37686959]]\n"
     ]
    }
   ],
   "source": [
    "#save as text file\n",
    "np.savetxt('text_file_name.txt', rand_mat, delimiter=',')\n",
    "rand_mat_txt = np.loadtxt('text_file_name.txt', delimiter=',')\n",
    "print(rand_mat_txt)"
   ]
  },
  {
   "cell_type": "code",
   "execution_count": null,
   "metadata": {},
   "outputs": [],
   "source": []
  }
 ],
 "metadata": {
  "kernelspec": {
   "display_name": "Python 3",
   "language": "python",
   "name": "python3"
  },
  "language_info": {
   "codemirror_mode": {
    "name": "ipython",
    "version": 3
   },
   "file_extension": ".py",
   "mimetype": "text/x-python",
   "name": "python",
   "nbconvert_exporter": "python",
   "pygments_lexer": "ipython3",
   "version": "3.8.3"
  }
 },
 "nbformat": 4,
 "nbformat_minor": 4
}
