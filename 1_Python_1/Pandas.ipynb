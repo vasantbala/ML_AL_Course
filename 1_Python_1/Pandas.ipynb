{
 "cells": [
  {
   "cell_type": "markdown",
   "metadata": {},
   "source": []
  },
  {
   "cell_type": "code",
   "execution_count": 1,
   "metadata": {},
   "outputs": [],
   "source": [
    "import pandas as pd\n",
    "import numpy as np"
   ]
  },
  {
   "cell_type": "code",
   "execution_count": 2,
   "metadata": {},
   "outputs": [],
   "source": [
    "# easiest way to create series is through list and arrays\n",
    "mylist = [5.4, 6.1, 1.7, 99.8]\n",
    "myarray = np.array(mylist)"
   ]
  },
  {
   "cell_type": "code",
   "execution_count": 4,
   "metadata": {},
   "outputs": [
    {
     "name": "stdout",
     "output_type": "stream",
     "text": [
      "0     5.4\n",
      "1     6.1\n",
      "2     1.7\n",
      "3    99.8\n",
      "dtype: float64\n",
      "0     5.4\n",
      "1     6.1\n",
      "2     1.7\n",
      "3    99.8\n",
      "dtype: float64\n"
     ]
    }
   ],
   "source": [
    "myseries1 = pd.Series(data=mylist)\n",
    "print(myseries1)\n",
    "myseries2 = pd.Series(data=myarray)\n",
    "print(myseries2)"
   ]
  },
  {
   "cell_type": "code",
   "execution_count": 5,
   "metadata": {},
   "outputs": [
    {
     "name": "stdout",
     "output_type": "stream",
     "text": [
      "5.4\n"
     ]
    }
   ],
   "source": [
    "#access cell\n",
    "print(myseries1[0])\n"
   ]
  },
  {
   "cell_type": "code",
   "execution_count": 6,
   "metadata": {},
   "outputs": [
    {
     "name": "stdout",
     "output_type": "stream",
     "text": [
      "first      5.4\n",
      "second     6.1\n",
      "third      1.7\n",
      "fourth    99.8\n",
      "dtype: float64\n"
     ]
    }
   ],
   "source": [
    "#create labels to entries of a series\n",
    "mylabels = ['first', 'second', 'third', 'fourth']\n",
    "myseries3 = pd.Series(data=mylist, index=mylabels)\n",
    "print(myseries3)"
   ]
  },
  {
   "cell_type": "code",
   "execution_count": 9,
   "metadata": {},
   "outputs": [
    {
     "name": "stdout",
     "output_type": "stream",
     "text": [
      "first      5.4\n",
      "second     6.1\n",
      "third      1.7\n",
      "fourth    99.8\n",
      "dtype: float64\n"
     ]
    }
   ],
   "source": [
    "#or \n",
    "myseries4 = pd.Series(mylist,mylabels)\n",
    "print(myseries4)"
   ]
  },
  {
   "cell_type": "code",
   "execution_count": 10,
   "metadata": {},
   "outputs": [
    {
     "name": "stdout",
     "output_type": "stream",
     "text": [
      "6.1\n"
     ]
    }
   ],
   "source": [
    "print(myseries4['second'])\n"
   ]
  },
  {
   "cell_type": "code",
   "execution_count": 12,
   "metadata": {},
   "outputs": [
    {
     "name": "stdout",
     "output_type": "stream",
     "text": [
      "first     5.5\n",
      "third     1.1\n",
      "fourth    8.8\n",
      "fifth     1.6\n",
      "dtype: float64\n",
      "\n",
      "fifth       NaN\n",
      "first      10.9\n",
      "fourth    108.6\n",
      "second      NaN\n",
      "third       2.8\n",
      "dtype: float64\n"
     ]
    }
   ],
   "source": [
    "# can do math on series. Label is the correleation id during math between two series. NaN b/c series label is not found\n",
    "myseries5 = pd.Series([5.5,1.1,8.8,1.6], ['first', 'third', 'fourth', 'fifth'])\n",
    "print(myseries5)\n",
    "print('')\n",
    "print(myseries5+myseries4)"
   ]
  },
  {
   "cell_type": "code",
   "execution_count": 13,
   "metadata": {},
   "outputs": [
    {
     "data": {
      "text/html": [
       "<div>\n",
       "<style scoped>\n",
       "    .dataframe tbody tr th:only-of-type {\n",
       "        vertical-align: middle;\n",
       "    }\n",
       "\n",
       "    .dataframe tbody tr th {\n",
       "        vertical-align: top;\n",
       "    }\n",
       "\n",
       "    .dataframe thead th {\n",
       "        text-align: right;\n",
       "    }\n",
       "</style>\n",
       "<table border=\"1\" class=\"dataframe\">\n",
       "  <thead>\n",
       "    <tr style=\"text-align: right;\">\n",
       "      <th></th>\n",
       "      <th>0</th>\n",
       "      <th>1</th>\n",
       "    </tr>\n",
       "  </thead>\n",
       "  <tbody>\n",
       "    <tr>\n",
       "      <th>first</th>\n",
       "      <td>5.4</td>\n",
       "      <td>5.5</td>\n",
       "    </tr>\n",
       "    <tr>\n",
       "      <th>second</th>\n",
       "      <td>6.1</td>\n",
       "      <td>NaN</td>\n",
       "    </tr>\n",
       "    <tr>\n",
       "      <th>third</th>\n",
       "      <td>1.7</td>\n",
       "      <td>1.1</td>\n",
       "    </tr>\n",
       "    <tr>\n",
       "      <th>fourth</th>\n",
       "      <td>99.8</td>\n",
       "      <td>8.8</td>\n",
       "    </tr>\n",
       "    <tr>\n",
       "      <th>fifth</th>\n",
       "      <td>NaN</td>\n",
       "      <td>1.6</td>\n",
       "    </tr>\n",
       "  </tbody>\n",
       "</table>\n",
       "</div>"
      ],
      "text/plain": [
       "           0    1\n",
       "first    5.4  5.5\n",
       "second   6.1  NaN\n",
       "third    1.7  1.1\n",
       "fourth  99.8  8.8\n",
       "fifth    NaN  1.6"
      ]
     },
     "execution_count": 13,
     "metadata": {},
     "output_type": "execute_result"
    }
   ],
   "source": [
    "# can do concat two series to create dataframe\n",
    "df1 = pd.concat([myseries4, myseries5], axis=1, sort=False)\n",
    "df1\n"
   ]
  },
  {
   "cell_type": "code",
   "execution_count": 14,
   "metadata": {},
   "outputs": [
    {
     "data": {
      "text/plain": [
       "first      5.4\n",
       "second     6.1\n",
       "third      1.7\n",
       "fourth    99.8\n",
       "first      5.5\n",
       "third      1.1\n",
       "fourth     8.8\n",
       "fifth      1.6\n",
       "dtype: float64"
      ]
     },
     "execution_count": 14,
     "metadata": {},
     "output_type": "execute_result"
    }
   ],
   "source": [
    "# axis 0 stacks two series one over another\n",
    "zzdf1 = pd.concat([myseries4, myseries5], axis=0, sort=False)\n",
    "zzdf1"
   ]
  },
  {
   "cell_type": "code",
   "execution_count": 15,
   "metadata": {},
   "outputs": [
    {
     "data": {
      "text/html": [
       "<div>\n",
       "<style scoped>\n",
       "    .dataframe tbody tr th:only-of-type {\n",
       "        vertical-align: middle;\n",
       "    }\n",
       "\n",
       "    .dataframe tbody tr th {\n",
       "        vertical-align: top;\n",
       "    }\n",
       "\n",
       "    .dataframe thead th {\n",
       "        text-align: right;\n",
       "    }\n",
       "</style>\n",
       "<table border=\"1\" class=\"dataframe\">\n",
       "  <thead>\n",
       "    <tr style=\"text-align: right;\">\n",
       "      <th></th>\n",
       "      <th>0</th>\n",
       "      <th>1</th>\n",
       "      <th>2</th>\n",
       "      <th>3</th>\n",
       "      <th>4</th>\n",
       "    </tr>\n",
       "  </thead>\n",
       "  <tbody>\n",
       "    <tr>\n",
       "      <th>0</th>\n",
       "      <td>0.130337</td>\n",
       "      <td>-0.499812</td>\n",
       "      <td>2.209784</td>\n",
       "      <td>0.040506</td>\n",
       "      <td>-0.597592</td>\n",
       "    </tr>\n",
       "    <tr>\n",
       "      <th>1</th>\n",
       "      <td>-0.290392</td>\n",
       "      <td>0.579140</td>\n",
       "      <td>-0.807361</td>\n",
       "      <td>0.590733</td>\n",
       "      <td>-0.111571</td>\n",
       "    </tr>\n",
       "    <tr>\n",
       "      <th>2</th>\n",
       "      <td>-1.197040</td>\n",
       "      <td>-0.120413</td>\n",
       "      <td>-1.021262</td>\n",
       "      <td>0.579281</td>\n",
       "      <td>-1.109757</td>\n",
       "    </tr>\n",
       "    <tr>\n",
       "      <th>3</th>\n",
       "      <td>-0.398302</td>\n",
       "      <td>0.630598</td>\n",
       "      <td>-0.266746</td>\n",
       "      <td>-0.359639</td>\n",
       "      <td>0.167183</td>\n",
       "    </tr>\n",
       "    <tr>\n",
       "      <th>4</th>\n",
       "      <td>-0.551412</td>\n",
       "      <td>0.139798</td>\n",
       "      <td>0.322534</td>\n",
       "      <td>-0.462264</td>\n",
       "      <td>0.496114</td>\n",
       "    </tr>\n",
       "  </tbody>\n",
       "</table>\n",
       "</div>"
      ],
      "text/plain": [
       "          0         1         2         3         4\n",
       "0  0.130337 -0.499812  2.209784  0.040506 -0.597592\n",
       "1 -0.290392  0.579140 -0.807361  0.590733 -0.111571\n",
       "2 -1.197040 -0.120413 -1.021262  0.579281 -1.109757\n",
       "3 -0.398302  0.630598 -0.266746 -0.359639  0.167183\n",
       "4 -0.551412  0.139798  0.322534 -0.462264  0.496114"
      ]
     },
     "execution_count": 15,
     "metadata": {},
     "output_type": "execute_result"
    }
   ],
   "source": [
    "# pd.DataFrame can be used to create dataframe as well\n",
    "df2 = pd.DataFrame(np.random.randn(5,5))\n",
    "df2"
   ]
  },
  {
   "cell_type": "code",
   "execution_count": 16,
   "metadata": {},
   "outputs": [
    {
     "data": {
      "text/html": [
       "<div>\n",
       "<style scoped>\n",
       "    .dataframe tbody tr th:only-of-type {\n",
       "        vertical-align: middle;\n",
       "    }\n",
       "\n",
       "    .dataframe tbody tr th {\n",
       "        vertical-align: top;\n",
       "    }\n",
       "\n",
       "    .dataframe thead th {\n",
       "        text-align: right;\n",
       "    }\n",
       "</style>\n",
       "<table border=\"1\" class=\"dataframe\">\n",
       "  <thead>\n",
       "    <tr style=\"text-align: right;\">\n",
       "      <th></th>\n",
       "      <th>first col</th>\n",
       "      <th>second col</th>\n",
       "      <th>third col</th>\n",
       "      <th>fourth col</th>\n",
       "      <th>fifth col</th>\n",
       "    </tr>\n",
       "  </thead>\n",
       "  <tbody>\n",
       "    <tr>\n",
       "      <th>first row</th>\n",
       "      <td>-0.376889</td>\n",
       "      <td>1.442449</td>\n",
       "      <td>-0.550899</td>\n",
       "      <td>-0.424235</td>\n",
       "      <td>-0.200271</td>\n",
       "    </tr>\n",
       "    <tr>\n",
       "      <th>second row</th>\n",
       "      <td>-1.697397</td>\n",
       "      <td>-0.334572</td>\n",
       "      <td>1.184084</td>\n",
       "      <td>-0.172487</td>\n",
       "      <td>-1.987909</td>\n",
       "    </tr>\n",
       "    <tr>\n",
       "      <th>third row</th>\n",
       "      <td>0.962956</td>\n",
       "      <td>0.453435</td>\n",
       "      <td>0.352161</td>\n",
       "      <td>0.207854</td>\n",
       "      <td>-0.257387</td>\n",
       "    </tr>\n",
       "    <tr>\n",
       "      <th>fourth row</th>\n",
       "      <td>0.987294</td>\n",
       "      <td>-1.349073</td>\n",
       "      <td>-1.048137</td>\n",
       "      <td>-0.082712</td>\n",
       "      <td>0.191421</td>\n",
       "    </tr>\n",
       "    <tr>\n",
       "      <th>fifth row</th>\n",
       "      <td>0.901745</td>\n",
       "      <td>0.659924</td>\n",
       "      <td>0.270143</td>\n",
       "      <td>1.496105</td>\n",
       "      <td>0.069115</td>\n",
       "    </tr>\n",
       "  </tbody>\n",
       "</table>\n",
       "</div>"
      ],
      "text/plain": [
       "            first col  second col  third col  fourth col  fifth col\n",
       "first row   -0.376889    1.442449  -0.550899   -0.424235  -0.200271\n",
       "second row  -1.697397   -0.334572   1.184084   -0.172487  -1.987909\n",
       "third row    0.962956    0.453435   0.352161    0.207854  -0.257387\n",
       "fourth row   0.987294   -1.349073  -1.048137   -0.082712   0.191421\n",
       "fifth row    0.901745    0.659924   0.270143    1.496105   0.069115"
      ]
     },
     "execution_count": 16,
     "metadata": {},
     "output_type": "execute_result"
    }
   ],
   "source": [
    "#labels to rows (index) and columns (columns)\n",
    "df3 = pd.DataFrame(np.random.randn(5,5), index=['first row', 'second row', 'third row', 'fourth row', 'fifth row'],\n",
    "                  columns=['first col', 'second col', 'third col', 'fourth col', 'fifth col'] )\n",
    "df3"
   ]
  },
  {
   "cell_type": "code",
   "execution_count": 18,
   "metadata": {},
   "outputs": [
    {
     "name": "stdout",
     "output_type": "stream",
     "text": [
      "first row     1.442449\n",
      "second row   -0.334572\n",
      "third row     0.453435\n",
      "fourth row   -1.349073\n",
      "fifth row     0.659924\n",
      "Name: second col, dtype: float64\n",
      "\n"
     ]
    },
    {
     "data": {
      "text/html": [
       "<div>\n",
       "<style scoped>\n",
       "    .dataframe tbody tr th:only-of-type {\n",
       "        vertical-align: middle;\n",
       "    }\n",
       "\n",
       "    .dataframe tbody tr th {\n",
       "        vertical-align: top;\n",
       "    }\n",
       "\n",
       "    .dataframe thead th {\n",
       "        text-align: right;\n",
       "    }\n",
       "</style>\n",
       "<table border=\"1\" class=\"dataframe\">\n",
       "  <thead>\n",
       "    <tr style=\"text-align: right;\">\n",
       "      <th></th>\n",
       "      <th>third col</th>\n",
       "      <th>first col</th>\n",
       "    </tr>\n",
       "  </thead>\n",
       "  <tbody>\n",
       "    <tr>\n",
       "      <th>first row</th>\n",
       "      <td>-0.550899</td>\n",
       "      <td>-0.376889</td>\n",
       "    </tr>\n",
       "    <tr>\n",
       "      <th>second row</th>\n",
       "      <td>1.184084</td>\n",
       "      <td>-1.697397</td>\n",
       "    </tr>\n",
       "    <tr>\n",
       "      <th>third row</th>\n",
       "      <td>0.352161</td>\n",
       "      <td>0.962956</td>\n",
       "    </tr>\n",
       "    <tr>\n",
       "      <th>fourth row</th>\n",
       "      <td>-1.048137</td>\n",
       "      <td>0.987294</td>\n",
       "    </tr>\n",
       "    <tr>\n",
       "      <th>fifth row</th>\n",
       "      <td>0.270143</td>\n",
       "      <td>0.901745</td>\n",
       "    </tr>\n",
       "  </tbody>\n",
       "</table>\n",
       "</div>"
      ],
      "text/plain": [
       "            third col  first col\n",
       "first row   -0.550899  -0.376889\n",
       "second row   1.184084  -1.697397\n",
       "third row    0.352161   0.962956\n",
       "fourth row  -1.048137   0.987294\n",
       "fifth row    0.270143   0.901745"
      ]
     },
     "execution_count": 18,
     "metadata": {},
     "output_type": "execute_result"
    }
   ],
   "source": [
    "# accessing\n",
    "print(df3['second col']) # <- single label will fetch only columns and not rows. b/c df is multiple series(columns)\n",
    "print('')\n",
    "df3[['third col', 'first col']]"
   ]
  },
  {
   "cell_type": "code",
   "execution_count": 19,
   "metadata": {},
   "outputs": [
    {
     "data": {
      "text/plain": [
       "first col    -0.376889\n",
       "second col    1.442449\n",
       "third col    -0.550899\n",
       "fourth col   -0.424235\n",
       "fifth col    -0.200271\n",
       "Name: first row, dtype: float64"
      ]
     },
     "execution_count": 19,
     "metadata": {},
     "output_type": "execute_result"
    }
   ],
   "source": [
    "#loc (location) fetches row in series (vertical). Notice not a method\n",
    "df3.loc['first row']"
   ]
  },
  {
   "cell_type": "code",
   "execution_count": 20,
   "metadata": {},
   "outputs": [
    {
     "data": {
      "text/plain": [
       "first col    -1.697397\n",
       "second col   -0.334572\n",
       "third col     1.184084\n",
       "fourth col   -0.172487\n",
       "fifth col    -1.987909\n",
       "Name: second row, dtype: float64"
      ]
     },
     "execution_count": 20,
     "metadata": {},
     "output_type": "execute_result"
    }
   ],
   "source": [
    "#iloc to fetch row using index\n",
    "df3.iloc[1]\n"
   ]
  },
  {
   "cell_type": "code",
   "execution_count": 21,
   "metadata": {},
   "outputs": [
    {
     "data": {
      "text/html": [
       "<div>\n",
       "<style scoped>\n",
       "    .dataframe tbody tr th:only-of-type {\n",
       "        vertical-align: middle;\n",
       "    }\n",
       "\n",
       "    .dataframe tbody tr th {\n",
       "        vertical-align: top;\n",
       "    }\n",
       "\n",
       "    .dataframe thead th {\n",
       "        text-align: right;\n",
       "    }\n",
       "</style>\n",
       "<table border=\"1\" class=\"dataframe\">\n",
       "  <thead>\n",
       "    <tr style=\"text-align: right;\">\n",
       "      <th></th>\n",
       "      <th>second col</th>\n",
       "      <th>third col</th>\n",
       "    </tr>\n",
       "  </thead>\n",
       "  <tbody>\n",
       "    <tr>\n",
       "      <th>fourth row</th>\n",
       "      <td>-1.349073</td>\n",
       "      <td>-1.048137</td>\n",
       "    </tr>\n",
       "    <tr>\n",
       "      <th>first row</th>\n",
       "      <td>1.442449</td>\n",
       "      <td>-0.550899</td>\n",
       "    </tr>\n",
       "  </tbody>\n",
       "</table>\n",
       "</div>"
      ],
      "text/plain": [
       "            second col  third col\n",
       "fourth row   -1.349073  -1.048137\n",
       "first row     1.442449  -0.550899"
      ]
     },
     "execution_count": 21,
     "metadata": {},
     "output_type": "execute_result"
    }
   ],
   "source": [
    "# loc to get both row and column\n",
    "df3.loc[['fourth row', 'first row'], ['second col', 'third col']]"
   ]
  },
  {
   "cell_type": "code",
   "execution_count": 22,
   "metadata": {},
   "outputs": [
    {
     "data": {
      "text/html": [
       "<div>\n",
       "<style scoped>\n",
       "    .dataframe tbody tr th:only-of-type {\n",
       "        vertical-align: middle;\n",
       "    }\n",
       "\n",
       "    .dataframe tbody tr th {\n",
       "        vertical-align: top;\n",
       "    }\n",
       "\n",
       "    .dataframe thead th {\n",
       "        text-align: right;\n",
       "    }\n",
       "</style>\n",
       "<table border=\"1\" class=\"dataframe\">\n",
       "  <thead>\n",
       "    <tr style=\"text-align: right;\">\n",
       "      <th></th>\n",
       "      <th>first col</th>\n",
       "      <th>second col</th>\n",
       "      <th>third col</th>\n",
       "      <th>fourth col</th>\n",
       "      <th>fifth col</th>\n",
       "    </tr>\n",
       "  </thead>\n",
       "  <tbody>\n",
       "    <tr>\n",
       "      <th>first row</th>\n",
       "      <td>False</td>\n",
       "      <td>True</td>\n",
       "      <td>False</td>\n",
       "      <td>False</td>\n",
       "      <td>False</td>\n",
       "    </tr>\n",
       "    <tr>\n",
       "      <th>second row</th>\n",
       "      <td>False</td>\n",
       "      <td>False</td>\n",
       "      <td>True</td>\n",
       "      <td>False</td>\n",
       "      <td>False</td>\n",
       "    </tr>\n",
       "    <tr>\n",
       "      <th>third row</th>\n",
       "      <td>True</td>\n",
       "      <td>True</td>\n",
       "      <td>True</td>\n",
       "      <td>True</td>\n",
       "      <td>False</td>\n",
       "    </tr>\n",
       "    <tr>\n",
       "      <th>fourth row</th>\n",
       "      <td>True</td>\n",
       "      <td>False</td>\n",
       "      <td>False</td>\n",
       "      <td>False</td>\n",
       "      <td>True</td>\n",
       "    </tr>\n",
       "    <tr>\n",
       "      <th>fifth row</th>\n",
       "      <td>True</td>\n",
       "      <td>True</td>\n",
       "      <td>True</td>\n",
       "      <td>True</td>\n",
       "      <td>True</td>\n",
       "    </tr>\n",
       "  </tbody>\n",
       "</table>\n",
       "</div>"
      ],
      "text/plain": [
       "            first col  second col  third col  fourth col  fifth col\n",
       "first row       False        True      False       False      False\n",
       "second row      False       False       True       False      False\n",
       "third row        True        True       True        True      False\n",
       "fourth row       True       False      False       False       True\n",
       "fifth row        True        True       True        True       True"
      ]
     },
     "execution_count": 22,
     "metadata": {},
     "output_type": "execute_result"
    }
   ],
   "source": [
    "# logical conditions\n",
    "df3 > 0\n"
   ]
  },
  {
   "cell_type": "code",
   "execution_count": 23,
   "metadata": {},
   "outputs": [
    {
     "name": "stdout",
     "output_type": "stream",
     "text": [
      "            first col  second col  third col  fourth col  fifth col\n",
      "first row         NaN    1.442449        NaN         NaN        NaN\n",
      "second row        NaN         NaN   1.184084         NaN        NaN\n",
      "third row    0.962956    0.453435   0.352161    0.207854        NaN\n",
      "fourth row   0.987294         NaN        NaN         NaN   0.191421\n",
      "fifth row    0.901745    0.659924   0.270143    1.496105   0.069115\n"
     ]
    }
   ],
   "source": [
    "print(df3[df3>0]) #compare the result with matrix. table structure is maintained"
   ]
  },
  {
   "cell_type": "code",
   "execution_count": 24,
   "metadata": {},
   "outputs": [
    {
     "data": {
      "text/html": [
       "<div>\n",
       "<style scoped>\n",
       "    .dataframe tbody tr th:only-of-type {\n",
       "        vertical-align: middle;\n",
       "    }\n",
       "\n",
       "    .dataframe tbody tr th {\n",
       "        vertical-align: top;\n",
       "    }\n",
       "\n",
       "    .dataframe thead th {\n",
       "        text-align: right;\n",
       "    }\n",
       "</style>\n",
       "<table border=\"1\" class=\"dataframe\">\n",
       "  <thead>\n",
       "    <tr style=\"text-align: right;\">\n",
       "      <th></th>\n",
       "      <th>first col</th>\n",
       "      <th>second col</th>\n",
       "      <th>third col</th>\n",
       "      <th>fourth col</th>\n",
       "      <th>fifth col</th>\n",
       "      <th>sixth col</th>\n",
       "    </tr>\n",
       "  </thead>\n",
       "  <tbody>\n",
       "    <tr>\n",
       "      <th>first row</th>\n",
       "      <td>-0.376889</td>\n",
       "      <td>1.442449</td>\n",
       "      <td>-0.550899</td>\n",
       "      <td>-0.424235</td>\n",
       "      <td>-0.200271</td>\n",
       "      <td>-0.956202</td>\n",
       "    </tr>\n",
       "    <tr>\n",
       "      <th>second row</th>\n",
       "      <td>-1.697397</td>\n",
       "      <td>-0.334572</td>\n",
       "      <td>1.184084</td>\n",
       "      <td>-0.172487</td>\n",
       "      <td>-1.987909</td>\n",
       "      <td>0.476543</td>\n",
       "    </tr>\n",
       "    <tr>\n",
       "      <th>third row</th>\n",
       "      <td>0.962956</td>\n",
       "      <td>0.453435</td>\n",
       "      <td>0.352161</td>\n",
       "      <td>0.207854</td>\n",
       "      <td>-0.257387</td>\n",
       "      <td>-0.088573</td>\n",
       "    </tr>\n",
       "    <tr>\n",
       "      <th>fourth row</th>\n",
       "      <td>0.987294</td>\n",
       "      <td>-1.349073</td>\n",
       "      <td>-1.048137</td>\n",
       "      <td>-0.082712</td>\n",
       "      <td>0.191421</td>\n",
       "      <td>0.454294</td>\n",
       "    </tr>\n",
       "    <tr>\n",
       "      <th>fifth row</th>\n",
       "      <td>0.901745</td>\n",
       "      <td>0.659924</td>\n",
       "      <td>0.270143</td>\n",
       "      <td>1.496105</td>\n",
       "      <td>0.069115</td>\n",
       "      <td>-0.508511</td>\n",
       "    </tr>\n",
       "  </tbody>\n",
       "</table>\n",
       "</div>"
      ],
      "text/plain": [
       "            first col  second col  third col  fourth col  fifth col  sixth col\n",
       "first row   -0.376889    1.442449  -0.550899   -0.424235  -0.200271  -0.956202\n",
       "second row  -1.697397   -0.334572   1.184084   -0.172487  -1.987909   0.476543\n",
       "third row    0.962956    0.453435   0.352161    0.207854  -0.257387  -0.088573\n",
       "fourth row   0.987294   -1.349073  -1.048137   -0.082712   0.191421   0.454294\n",
       "fifth row    0.901745    0.659924   0.270143    1.496105   0.069115  -0.508511"
      ]
     },
     "execution_count": 24,
     "metadata": {},
     "output_type": "execute_result"
    }
   ],
   "source": [
    "#add col\n",
    "df3['sixth col'] = np.random.randn(5,1)\n",
    "df3"
   ]
  },
  {
   "cell_type": "code",
   "execution_count": 25,
   "metadata": {},
   "outputs": [
    {
     "data": {
      "text/html": [
       "<div>\n",
       "<style scoped>\n",
       "    .dataframe tbody tr th:only-of-type {\n",
       "        vertical-align: middle;\n",
       "    }\n",
       "\n",
       "    .dataframe tbody tr th {\n",
       "        vertical-align: top;\n",
       "    }\n",
       "\n",
       "    .dataframe thead th {\n",
       "        text-align: right;\n",
       "    }\n",
       "</style>\n",
       "<table border=\"1\" class=\"dataframe\">\n",
       "  <thead>\n",
       "    <tr style=\"text-align: right;\">\n",
       "      <th></th>\n",
       "      <th>second col</th>\n",
       "      <th>third col</th>\n",
       "      <th>fourth col</th>\n",
       "      <th>fifth col</th>\n",
       "      <th>sixth col</th>\n",
       "    </tr>\n",
       "  </thead>\n",
       "  <tbody>\n",
       "    <tr>\n",
       "      <th>first row</th>\n",
       "      <td>1.442449</td>\n",
       "      <td>-0.550899</td>\n",
       "      <td>-0.424235</td>\n",
       "      <td>-0.200271</td>\n",
       "      <td>-0.956202</td>\n",
       "    </tr>\n",
       "    <tr>\n",
       "      <th>second row</th>\n",
       "      <td>-0.334572</td>\n",
       "      <td>1.184084</td>\n",
       "      <td>-0.172487</td>\n",
       "      <td>-1.987909</td>\n",
       "      <td>0.476543</td>\n",
       "    </tr>\n",
       "    <tr>\n",
       "      <th>third row</th>\n",
       "      <td>0.453435</td>\n",
       "      <td>0.352161</td>\n",
       "      <td>0.207854</td>\n",
       "      <td>-0.257387</td>\n",
       "      <td>-0.088573</td>\n",
       "    </tr>\n",
       "    <tr>\n",
       "      <th>fourth row</th>\n",
       "      <td>-1.349073</td>\n",
       "      <td>-1.048137</td>\n",
       "      <td>-0.082712</td>\n",
       "      <td>0.191421</td>\n",
       "      <td>0.454294</td>\n",
       "    </tr>\n",
       "    <tr>\n",
       "      <th>fifth row</th>\n",
       "      <td>0.659924</td>\n",
       "      <td>0.270143</td>\n",
       "      <td>1.496105</td>\n",
       "      <td>0.069115</td>\n",
       "      <td>-0.508511</td>\n",
       "    </tr>\n",
       "  </tbody>\n",
       "</table>\n",
       "</div>"
      ],
      "text/plain": [
       "            second col  third col  fourth col  fifth col  sixth col\n",
       "first row     1.442449  -0.550899   -0.424235  -0.200271  -0.956202\n",
       "second row   -0.334572   1.184084   -0.172487  -1.987909   0.476543\n",
       "third row     0.453435   0.352161    0.207854  -0.257387  -0.088573\n",
       "fourth row   -1.349073  -1.048137   -0.082712   0.191421   0.454294\n",
       "fifth row     0.659924   0.270143    1.496105   0.069115  -0.508511"
      ]
     },
     "execution_count": 25,
     "metadata": {},
     "output_type": "execute_result"
    }
   ],
   "source": [
    "#drop col\n",
    "df3.drop('first col', axis = 1) #<- why axis = 1"
   ]
  },
  {
   "cell_type": "code",
   "execution_count": 26,
   "metadata": {},
   "outputs": [
    {
     "data": {
      "text/html": [
       "<div>\n",
       "<style scoped>\n",
       "    .dataframe tbody tr th:only-of-type {\n",
       "        vertical-align: middle;\n",
       "    }\n",
       "\n",
       "    .dataframe tbody tr th {\n",
       "        vertical-align: top;\n",
       "    }\n",
       "\n",
       "    .dataframe thead th {\n",
       "        text-align: right;\n",
       "    }\n",
       "</style>\n",
       "<table border=\"1\" class=\"dataframe\">\n",
       "  <thead>\n",
       "    <tr style=\"text-align: right;\">\n",
       "      <th></th>\n",
       "      <th>first col</th>\n",
       "      <th>second col</th>\n",
       "      <th>third col</th>\n",
       "      <th>fourth col</th>\n",
       "      <th>fifth col</th>\n",
       "      <th>sixth col</th>\n",
       "    </tr>\n",
       "  </thead>\n",
       "  <tbody>\n",
       "    <tr>\n",
       "      <th>first row</th>\n",
       "      <td>-0.376889</td>\n",
       "      <td>1.442449</td>\n",
       "      <td>-0.550899</td>\n",
       "      <td>-0.424235</td>\n",
       "      <td>-0.200271</td>\n",
       "      <td>-0.956202</td>\n",
       "    </tr>\n",
       "    <tr>\n",
       "      <th>second row</th>\n",
       "      <td>-1.697397</td>\n",
       "      <td>-0.334572</td>\n",
       "      <td>1.184084</td>\n",
       "      <td>-0.172487</td>\n",
       "      <td>-1.987909</td>\n",
       "      <td>0.476543</td>\n",
       "    </tr>\n",
       "    <tr>\n",
       "      <th>third row</th>\n",
       "      <td>0.962956</td>\n",
       "      <td>0.453435</td>\n",
       "      <td>0.352161</td>\n",
       "      <td>0.207854</td>\n",
       "      <td>-0.257387</td>\n",
       "      <td>-0.088573</td>\n",
       "    </tr>\n",
       "    <tr>\n",
       "      <th>fourth row</th>\n",
       "      <td>0.987294</td>\n",
       "      <td>-1.349073</td>\n",
       "      <td>-1.048137</td>\n",
       "      <td>-0.082712</td>\n",
       "      <td>0.191421</td>\n",
       "      <td>0.454294</td>\n",
       "    </tr>\n",
       "    <tr>\n",
       "      <th>fifth row</th>\n",
       "      <td>0.901745</td>\n",
       "      <td>0.659924</td>\n",
       "      <td>0.270143</td>\n",
       "      <td>1.496105</td>\n",
       "      <td>0.069115</td>\n",
       "      <td>-0.508511</td>\n",
       "    </tr>\n",
       "  </tbody>\n",
       "</table>\n",
       "</div>"
      ],
      "text/plain": [
       "            first col  second col  third col  fourth col  fifth col  sixth col\n",
       "first row   -0.376889    1.442449  -0.550899   -0.424235  -0.200271  -0.956202\n",
       "second row  -1.697397   -0.334572   1.184084   -0.172487  -1.987909   0.476543\n",
       "third row    0.962956    0.453435   0.352161    0.207854  -0.257387  -0.088573\n",
       "fourth row   0.987294   -1.349073  -1.048137   -0.082712   0.191421   0.454294\n",
       "fifth row    0.901745    0.659924   0.270143    1.496105   0.069115  -0.508511"
      ]
     },
     "execution_count": 26,
     "metadata": {},
     "output_type": "execute_result"
    }
   ],
   "source": [
    "df3 # first col not dropped yet. \n"
   ]
  },
  {
   "cell_type": "code",
   "execution_count": 27,
   "metadata": {},
   "outputs": [],
   "source": [
    "df4 = df3.drop('first col', axis=1) #d3 = d3.drop... is fine too"
   ]
  },
  {
   "cell_type": "code",
   "execution_count": 28,
   "metadata": {},
   "outputs": [
    {
     "data": {
      "text/html": [
       "<div>\n",
       "<style scoped>\n",
       "    .dataframe tbody tr th:only-of-type {\n",
       "        vertical-align: middle;\n",
       "    }\n",
       "\n",
       "    .dataframe tbody tr th {\n",
       "        vertical-align: top;\n",
       "    }\n",
       "\n",
       "    .dataframe thead th {\n",
       "        text-align: right;\n",
       "    }\n",
       "</style>\n",
       "<table border=\"1\" class=\"dataframe\">\n",
       "  <thead>\n",
       "    <tr style=\"text-align: right;\">\n",
       "      <th></th>\n",
       "      <th>second col</th>\n",
       "      <th>third col</th>\n",
       "      <th>fourth col</th>\n",
       "      <th>fifth col</th>\n",
       "      <th>sixth col</th>\n",
       "    </tr>\n",
       "  </thead>\n",
       "  <tbody>\n",
       "    <tr>\n",
       "      <th>first row</th>\n",
       "      <td>1.442449</td>\n",
       "      <td>-0.550899</td>\n",
       "      <td>-0.424235</td>\n",
       "      <td>-0.200271</td>\n",
       "      <td>-0.956202</td>\n",
       "    </tr>\n",
       "    <tr>\n",
       "      <th>second row</th>\n",
       "      <td>-0.334572</td>\n",
       "      <td>1.184084</td>\n",
       "      <td>-0.172487</td>\n",
       "      <td>-1.987909</td>\n",
       "      <td>0.476543</td>\n",
       "    </tr>\n",
       "    <tr>\n",
       "      <th>third row</th>\n",
       "      <td>0.453435</td>\n",
       "      <td>0.352161</td>\n",
       "      <td>0.207854</td>\n",
       "      <td>-0.257387</td>\n",
       "      <td>-0.088573</td>\n",
       "    </tr>\n",
       "    <tr>\n",
       "      <th>fourth row</th>\n",
       "      <td>-1.349073</td>\n",
       "      <td>-1.048137</td>\n",
       "      <td>-0.082712</td>\n",
       "      <td>0.191421</td>\n",
       "      <td>0.454294</td>\n",
       "    </tr>\n",
       "    <tr>\n",
       "      <th>fifth row</th>\n",
       "      <td>0.659924</td>\n",
       "      <td>0.270143</td>\n",
       "      <td>1.496105</td>\n",
       "      <td>0.069115</td>\n",
       "      <td>-0.508511</td>\n",
       "    </tr>\n",
       "  </tbody>\n",
       "</table>\n",
       "</div>"
      ],
      "text/plain": [
       "            second col  third col  fourth col  fifth col  sixth col\n",
       "first row     1.442449  -0.550899   -0.424235  -0.200271  -0.956202\n",
       "second row   -0.334572   1.184084   -0.172487  -1.987909   0.476543\n",
       "third row     0.453435   0.352161    0.207854  -0.257387  -0.088573\n",
       "fourth row   -1.349073  -1.048137   -0.082712   0.191421   0.454294\n",
       "fifth row     0.659924   0.270143    1.496105   0.069115  -0.508511"
      ]
     },
     "execution_count": 28,
     "metadata": {},
     "output_type": "execute_result"
    }
   ],
   "source": [
    "df4"
   ]
  },
  {
   "cell_type": "code",
   "execution_count": 35,
   "metadata": {},
   "outputs": [
    {
     "data": {
      "text/html": [
       "<div>\n",
       "<style scoped>\n",
       "    .dataframe tbody tr th:only-of-type {\n",
       "        vertical-align: middle;\n",
       "    }\n",
       "\n",
       "    .dataframe tbody tr th {\n",
       "        vertical-align: top;\n",
       "    }\n",
       "\n",
       "    .dataframe thead th {\n",
       "        text-align: right;\n",
       "    }\n",
       "</style>\n",
       "<table border=\"1\" class=\"dataframe\">\n",
       "  <thead>\n",
       "    <tr style=\"text-align: right;\">\n",
       "      <th></th>\n",
       "      <th>first col</th>\n",
       "      <th>second col</th>\n",
       "      <th>third col</th>\n",
       "      <th>fourth col</th>\n",
       "      <th>fifth col</th>\n",
       "      <th>sixth col</th>\n",
       "    </tr>\n",
       "  </thead>\n",
       "  <tbody>\n",
       "    <tr>\n",
       "      <th>first row</th>\n",
       "      <td>-0.376889</td>\n",
       "      <td>1.442449</td>\n",
       "      <td>-0.550899</td>\n",
       "      <td>-0.424235</td>\n",
       "      <td>-0.200271</td>\n",
       "      <td>-0.956202</td>\n",
       "    </tr>\n",
       "    <tr>\n",
       "      <th>third row</th>\n",
       "      <td>0.962956</td>\n",
       "      <td>0.453435</td>\n",
       "      <td>0.352161</td>\n",
       "      <td>0.207854</td>\n",
       "      <td>-0.257387</td>\n",
       "      <td>-0.088573</td>\n",
       "    </tr>\n",
       "    <tr>\n",
       "      <th>fourth row</th>\n",
       "      <td>0.987294</td>\n",
       "      <td>-1.349073</td>\n",
       "      <td>-1.048137</td>\n",
       "      <td>-0.082712</td>\n",
       "      <td>0.191421</td>\n",
       "      <td>0.454294</td>\n",
       "    </tr>\n",
       "    <tr>\n",
       "      <th>fifth row</th>\n",
       "      <td>0.901745</td>\n",
       "      <td>0.659924</td>\n",
       "      <td>0.270143</td>\n",
       "      <td>1.496105</td>\n",
       "      <td>0.069115</td>\n",
       "      <td>-0.508511</td>\n",
       "    </tr>\n",
       "  </tbody>\n",
       "</table>\n",
       "</div>"
      ],
      "text/plain": [
       "            first col  second col  third col  fourth col  fifth col  sixth col\n",
       "first row   -0.376889    1.442449  -0.550899   -0.424235  -0.200271  -0.956202\n",
       "third row    0.962956    0.453435   0.352161    0.207854  -0.257387  -0.088573\n",
       "fourth row   0.987294   -1.349073  -1.048137   -0.082712   0.191421   0.454294\n",
       "fifth row    0.901745    0.659924   0.270143    1.496105   0.069115  -0.508511"
      ]
     },
     "execution_count": 35,
     "metadata": {},
     "output_type": "execute_result"
    }
   ],
   "source": [
    "df5 = df3.drop('second row', axis = 0) # <- removed rows \n",
    "df5"
   ]
  },
  {
   "cell_type": "code",
   "execution_count": 30,
   "metadata": {},
   "outputs": [
    {
     "data": {
      "text/html": [
       "<div>\n",
       "<style scoped>\n",
       "    .dataframe tbody tr th:only-of-type {\n",
       "        vertical-align: middle;\n",
       "    }\n",
       "\n",
       "    .dataframe tbody tr th {\n",
       "        vertical-align: top;\n",
       "    }\n",
       "\n",
       "    .dataframe thead th {\n",
       "        text-align: right;\n",
       "    }\n",
       "</style>\n",
       "<table border=\"1\" class=\"dataframe\">\n",
       "  <thead>\n",
       "    <tr style=\"text-align: right;\">\n",
       "      <th></th>\n",
       "      <th>index</th>\n",
       "      <th>first col</th>\n",
       "      <th>second col</th>\n",
       "      <th>third col</th>\n",
       "      <th>fourth col</th>\n",
       "      <th>fifth col</th>\n",
       "      <th>sixth col</th>\n",
       "    </tr>\n",
       "  </thead>\n",
       "  <tbody>\n",
       "    <tr>\n",
       "      <th>0</th>\n",
       "      <td>first row</td>\n",
       "      <td>-0.376889</td>\n",
       "      <td>1.442449</td>\n",
       "      <td>-0.550899</td>\n",
       "      <td>-0.424235</td>\n",
       "      <td>-0.200271</td>\n",
       "      <td>-0.956202</td>\n",
       "    </tr>\n",
       "    <tr>\n",
       "      <th>1</th>\n",
       "      <td>third row</td>\n",
       "      <td>0.962956</td>\n",
       "      <td>0.453435</td>\n",
       "      <td>0.352161</td>\n",
       "      <td>0.207854</td>\n",
       "      <td>-0.257387</td>\n",
       "      <td>-0.088573</td>\n",
       "    </tr>\n",
       "    <tr>\n",
       "      <th>2</th>\n",
       "      <td>fourth row</td>\n",
       "      <td>0.987294</td>\n",
       "      <td>-1.349073</td>\n",
       "      <td>-1.048137</td>\n",
       "      <td>-0.082712</td>\n",
       "      <td>0.191421</td>\n",
       "      <td>0.454294</td>\n",
       "    </tr>\n",
       "    <tr>\n",
       "      <th>3</th>\n",
       "      <td>fifth row</td>\n",
       "      <td>0.901745</td>\n",
       "      <td>0.659924</td>\n",
       "      <td>0.270143</td>\n",
       "      <td>1.496105</td>\n",
       "      <td>0.069115</td>\n",
       "      <td>-0.508511</td>\n",
       "    </tr>\n",
       "  </tbody>\n",
       "</table>\n",
       "</div>"
      ],
      "text/plain": [
       "        index  first col  second col  third col  fourth col  fifth col  \\\n",
       "0   first row  -0.376889    1.442449  -0.550899   -0.424235  -0.200271   \n",
       "1   third row   0.962956    0.453435   0.352161    0.207854  -0.257387   \n",
       "2  fourth row   0.987294   -1.349073  -1.048137   -0.082712   0.191421   \n",
       "3   fifth row   0.901745    0.659924   0.270143    1.496105   0.069115   \n",
       "\n",
       "   sixth col  \n",
       "0  -0.956202  \n",
       "1  -0.088573  \n",
       "2   0.454294  \n",
       "3  -0.508511  "
      ]
     },
     "execution_count": 30,
     "metadata": {},
     "output_type": "execute_result"
    }
   ],
   "source": [
    "#removing dataframe's label but converts into series.\n",
    "df5.reset_index()"
   ]
  },
  {
   "cell_type": "code",
   "execution_count": 36,
   "metadata": {},
   "outputs": [
    {
     "data": {
      "text/html": [
       "<div>\n",
       "<style scoped>\n",
       "    .dataframe tbody tr th:only-of-type {\n",
       "        vertical-align: middle;\n",
       "    }\n",
       "\n",
       "    .dataframe tbody tr th {\n",
       "        vertical-align: top;\n",
       "    }\n",
       "\n",
       "    .dataframe thead th {\n",
       "        text-align: right;\n",
       "    }\n",
       "</style>\n",
       "<table border=\"1\" class=\"dataframe\">\n",
       "  <thead>\n",
       "    <tr style=\"text-align: right;\">\n",
       "      <th></th>\n",
       "      <th>index</th>\n",
       "      <th>first col</th>\n",
       "      <th>second col</th>\n",
       "      <th>third col</th>\n",
       "      <th>fourth col</th>\n",
       "      <th>fifth col</th>\n",
       "      <th>sixth col</th>\n",
       "    </tr>\n",
       "  </thead>\n",
       "  <tbody>\n",
       "    <tr>\n",
       "      <th>0</th>\n",
       "      <td>first row</td>\n",
       "      <td>-0.376889</td>\n",
       "      <td>1.442449</td>\n",
       "      <td>-0.550899</td>\n",
       "      <td>-0.424235</td>\n",
       "      <td>-0.200271</td>\n",
       "      <td>-0.956202</td>\n",
       "    </tr>\n",
       "    <tr>\n",
       "      <th>1</th>\n",
       "      <td>third row</td>\n",
       "      <td>0.962956</td>\n",
       "      <td>0.453435</td>\n",
       "      <td>0.352161</td>\n",
       "      <td>0.207854</td>\n",
       "      <td>-0.257387</td>\n",
       "      <td>-0.088573</td>\n",
       "    </tr>\n",
       "    <tr>\n",
       "      <th>2</th>\n",
       "      <td>fourth row</td>\n",
       "      <td>0.987294</td>\n",
       "      <td>-1.349073</td>\n",
       "      <td>-1.048137</td>\n",
       "      <td>-0.082712</td>\n",
       "      <td>0.191421</td>\n",
       "      <td>0.454294</td>\n",
       "    </tr>\n",
       "    <tr>\n",
       "      <th>3</th>\n",
       "      <td>fifth row</td>\n",
       "      <td>0.901745</td>\n",
       "      <td>0.659924</td>\n",
       "      <td>0.270143</td>\n",
       "      <td>1.496105</td>\n",
       "      <td>0.069115</td>\n",
       "      <td>-0.508511</td>\n",
       "    </tr>\n",
       "  </tbody>\n",
       "</table>\n",
       "</div>"
      ],
      "text/plain": [
       "        index  first col  second col  third col  fourth col  fifth col  \\\n",
       "0   first row  -0.376889    1.442449  -0.550899   -0.424235  -0.200271   \n",
       "1   third row   0.962956    0.453435   0.352161    0.207854  -0.257387   \n",
       "2  fourth row   0.987294   -1.349073  -1.048137   -0.082712   0.191421   \n",
       "3   fifth row   0.901745    0.659924   0.270143    1.496105   0.069115   \n",
       "\n",
       "   sixth col  \n",
       "0  -0.956202  \n",
       "1  -0.088573  \n",
       "2   0.454294  \n",
       "3  -0.508511  "
      ]
     },
     "execution_count": 36,
     "metadata": {},
     "output_type": "execute_result"
    }
   ],
   "source": [
    "#inplace=true argument to save the changes\n",
    "df5.reset_index(inplace=True) # works for drop as well\n",
    "df5"
   ]
  },
  {
   "cell_type": "code",
   "execution_count": 37,
   "metadata": {},
   "outputs": [],
   "source": [
    "#add new index names\n",
    "df5['new name'] = ['new first row', 'new second row', 'new third row', 'new fourth row']"
   ]
  },
  {
   "cell_type": "code",
   "execution_count": 38,
   "metadata": {},
   "outputs": [
    {
     "data": {
      "text/html": [
       "<div>\n",
       "<style scoped>\n",
       "    .dataframe tbody tr th:only-of-type {\n",
       "        vertical-align: middle;\n",
       "    }\n",
       "\n",
       "    .dataframe tbody tr th {\n",
       "        vertical-align: top;\n",
       "    }\n",
       "\n",
       "    .dataframe thead th {\n",
       "        text-align: right;\n",
       "    }\n",
       "</style>\n",
       "<table border=\"1\" class=\"dataframe\">\n",
       "  <thead>\n",
       "    <tr style=\"text-align: right;\">\n",
       "      <th></th>\n",
       "      <th>index</th>\n",
       "      <th>first col</th>\n",
       "      <th>second col</th>\n",
       "      <th>third col</th>\n",
       "      <th>fourth col</th>\n",
       "      <th>fifth col</th>\n",
       "      <th>sixth col</th>\n",
       "    </tr>\n",
       "    <tr>\n",
       "      <th>new name</th>\n",
       "      <th></th>\n",
       "      <th></th>\n",
       "      <th></th>\n",
       "      <th></th>\n",
       "      <th></th>\n",
       "      <th></th>\n",
       "      <th></th>\n",
       "    </tr>\n",
       "  </thead>\n",
       "  <tbody>\n",
       "    <tr>\n",
       "      <th>new first row</th>\n",
       "      <td>first row</td>\n",
       "      <td>-0.376889</td>\n",
       "      <td>1.442449</td>\n",
       "      <td>-0.550899</td>\n",
       "      <td>-0.424235</td>\n",
       "      <td>-0.200271</td>\n",
       "      <td>-0.956202</td>\n",
       "    </tr>\n",
       "    <tr>\n",
       "      <th>new second row</th>\n",
       "      <td>third row</td>\n",
       "      <td>0.962956</td>\n",
       "      <td>0.453435</td>\n",
       "      <td>0.352161</td>\n",
       "      <td>0.207854</td>\n",
       "      <td>-0.257387</td>\n",
       "      <td>-0.088573</td>\n",
       "    </tr>\n",
       "    <tr>\n",
       "      <th>new third row</th>\n",
       "      <td>fourth row</td>\n",
       "      <td>0.987294</td>\n",
       "      <td>-1.349073</td>\n",
       "      <td>-1.048137</td>\n",
       "      <td>-0.082712</td>\n",
       "      <td>0.191421</td>\n",
       "      <td>0.454294</td>\n",
       "    </tr>\n",
       "    <tr>\n",
       "      <th>new fourth row</th>\n",
       "      <td>fifth row</td>\n",
       "      <td>0.901745</td>\n",
       "      <td>0.659924</td>\n",
       "      <td>0.270143</td>\n",
       "      <td>1.496105</td>\n",
       "      <td>0.069115</td>\n",
       "      <td>-0.508511</td>\n",
       "    </tr>\n",
       "  </tbody>\n",
       "</table>\n",
       "</div>"
      ],
      "text/plain": [
       "                     index  first col  second col  third col  fourth col  \\\n",
       "new name                                                                   \n",
       "new first row    first row  -0.376889    1.442449  -0.550899   -0.424235   \n",
       "new second row   third row   0.962956    0.453435   0.352161    0.207854   \n",
       "new third row   fourth row   0.987294   -1.349073  -1.048137   -0.082712   \n",
       "new fourth row   fifth row   0.901745    0.659924   0.270143    1.496105   \n",
       "\n",
       "                fifth col  sixth col  \n",
       "new name                              \n",
       "new first row   -0.200271  -0.956202  \n",
       "new second row  -0.257387  -0.088573  \n",
       "new third row    0.191421   0.454294  \n",
       "new fourth row   0.069115  -0.508511  "
      ]
     },
     "execution_count": 38,
     "metadata": {},
     "output_type": "execute_result"
    }
   ],
   "source": [
    "df5\n",
    "df5.set_index('new name', inplace=True)\n",
    "df5"
   ]
  },
  {
   "cell_type": "code",
   "execution_count": null,
   "metadata": {},
   "outputs": [],
   "source": []
  }
 ],
 "metadata": {
  "kernelspec": {
   "display_name": "Python 3",
   "language": "python",
   "name": "python3"
  },
  "language_info": {
   "codemirror_mode": {
    "name": "ipython",
    "version": 3
   },
   "file_extension": ".py",
   "mimetype": "text/x-python",
   "name": "python",
   "nbconvert_exporter": "python",
   "pygments_lexer": "ipython3",
   "version": "3.8.3"
  }
 },
 "nbformat": 4,
 "nbformat_minor": 4
}
