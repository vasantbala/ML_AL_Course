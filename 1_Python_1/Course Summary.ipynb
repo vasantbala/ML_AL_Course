{
 "cells": [
  {
   "cell_type": "markdown",
   "metadata": {},
   "source": [
    "# Python 1\n",
    "\n",
    "## NumPy\n",
    "1. import numpy as np\n",
    "2. Used for math operations that are more advanced than add, sub, mul, div\n",
    "3. Has array and matrix data types. Unlike lists, values of arrays and matrix should be of single datatype\n",
    "\n",
    "### Popular Functions in NumPy\n",
    "1. np.cos(x)\n",
    "2. np.pi\n",
    "3. np.sqrt(x)\n",
    "4. np.log(x)\n",
    "5. np.exp(x)\n",
    "\n",
    "### Arrays\n",
    "#### Creation\n",
    "1. From List\n",
    "2. Transpose\n",
    "3. np.arange(x,y[,z])\n",
    "4. np.linspace(x,y,z)\n"
   ]
  }
 ],
 "metadata": {
  "kernelspec": {
   "display_name": "Python 3",
   "language": "python",
   "name": "python3"
  },
  "language_info": {
   "codemirror_mode": {
    "name": "ipython",
    "version": 3
   },
   "file_extension": ".py",
   "mimetype": "text/x-python",
   "name": "python",
   "nbconvert_exporter": "python",
   "pygments_lexer": "ipython3",
   "version": "3.8.3"
  }
 },
 "nbformat": 4,
 "nbformat_minor": 4
}
